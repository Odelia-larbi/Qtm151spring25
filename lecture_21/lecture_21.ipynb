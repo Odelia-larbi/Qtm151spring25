{
 "cells": [
  {
   "attachments": {},
   "cell_type": "markdown",
   "metadata": {},
   "source": [
    "# <span style=\"color:darkblue\"> Lecture 21 - Text Data  </span>\n",
    "\n",
    "<font size = \"5\">\n",
    "\n",
    "In  this lecture we will work with text data"
   ]
  },
  {
   "attachments": {},
   "cell_type": "markdown",
   "metadata": {},
   "source": [
    "<font size = \"5\">\n",
    "\n",
    "Import Libraries"
   ]
  },
  {
   "cell_type": "code",
   "execution_count": 1,
   "metadata": {},
   "outputs": [],
   "source": [
    "import pandas as pd"
   ]
  },
  {
   "cell_type": "markdown",
   "metadata": {},
   "source": [
    "<font size = \"5\">\n",
    "\n",
    "Import Data\n",
    "\n",
    "- Congressional bills in the United States"
   ]
  },
  {
   "cell_type": "code",
   "execution_count": 3,
   "metadata": {},
   "outputs": [
    {
     "data": {
      "text/plain": [
       "Congress        int64\n",
       "bill_number     int64\n",
       "bill_type      object\n",
       "action         object\n",
       "main_action    object\n",
       "category       object\n",
       "member_id       int64\n",
       "dtype: object"
      ]
     },
     "execution_count": 3,
     "metadata": {},
     "output_type": "execute_result"
    }
   ],
   "source": [
    "bills_actions = pd.read_csv(\"data_raw/bills_actions.csv\")\n",
    "bills_actions.dtypes"
   ]
  },
  {
   "cell_type": "markdown",
   "metadata": {},
   "source": [
    "# <span style=\"color:darkblue\"> II. Basic Text Operations </span>"
   ]
  },
  {
   "cell_type": "markdown",
   "metadata": {},
   "source": [
    "<font size = \"5\">\n",
    "\n",
    "Count Frequency"
   ]
  },
  {
   "cell_type": "code",
   "execution_count": 4,
   "metadata": {},
   "outputs": [
    {
     "data": {
      "text/plain": [
       "0         amendment\n",
       "1         amendment\n",
       "2         amendment\n",
       "3       senate bill\n",
       "4       senate bill\n",
       "           ...     \n",
       "3298      amendment\n",
       "3299      amendment\n",
       "3300      amendment\n",
       "3301      amendment\n",
       "3302      amendment\n",
       "Name: category, Length: 3303, dtype: object"
      ]
     },
     "execution_count": 4,
     "metadata": {},
     "output_type": "execute_result"
    }
   ],
   "source": [
    "bills_actions[\"category\"]"
   ]
  },
  {
   "cell_type": "code",
   "execution_count": 5,
   "metadata": {},
   "outputs": [
    {
     "data": {
      "text/plain": [
       "amendment                       1529\n",
       "house bill                       902\n",
       "senate bill                      514\n",
       "house resolution                 234\n",
       "senate resolution                 60\n",
       "house joint resolution            22\n",
       "house concurrent resolution       20\n",
       "senate concurrent resolution      14\n",
       "senate joint resolution            8\n",
       "Name: category, dtype: int64"
      ]
     },
     "execution_count": 5,
     "metadata": {},
     "output_type": "execute_result"
    }
   ],
   "source": [
    "bills_actions[\"category\"].value_counts()\n",
    "#counts data from each catagory "
   ]
  },
  {
   "cell_type": "markdown",
   "metadata": {},
   "source": [
    "<font size = \"5\">\n",
    "\n",
    "Subset text categories"
   ]
  },
  {
   "cell_type": "code",
   "execution_count": 6,
   "metadata": {},
   "outputs": [
    {
     "data": {
      "text/plain": [
       "house bill     902\n",
       "senate bill    514\n",
       "Name: category, dtype: int64"
      ]
     },
     "execution_count": 6,
     "metadata": {},
     "output_type": "execute_result"
    }
   ],
   "source": [
    "# For this analysis we are only interested in bills. With \".query()\" ...\n",
    "#     - We select all entries in the column called \"category\" \n",
    "#       which have values contain in \"list_categories\"\n",
    "#     - \"in\" is used to test whether a word belongs to a list\n",
    "#     - @ is the syntax to reference \"global\" variables that\n",
    "#       are defined in the global environment\n",
    "\n",
    "list_categories = [\"house bill\",\"senate bill\"]\n",
    "bills = bills_actions.query('category in @list_categories')\n",
    "\n",
    "# Verify that the code worked:\n",
    "bills[\"category\"].value_counts()\n"
   ]
  },
  {
   "cell_type": "markdown",
   "metadata": {},
   "source": [
    "<font size = \"5\">\n",
    "\n",
    "Data manipulation with sentences"
   ]
  },
  {
   "cell_type": "code",
   "execution_count": 22,
   "metadata": {},
   "outputs": [
    {
     "name": "stdout",
     "output_type": "stream",
     "text": [
      "0.3199152542372881\n"
     ]
    }
   ],
   "source": [
    "# How many bills mention the word Senator?\n",
    "bool_contains = bills[\"action\"].str.contains(\"Senator\")\n",
    "print(bool_contains.mean())"
   ]
  },
  {
   "cell_type": "code",
   "execution_count": 24,
   "metadata": {},
   "outputs": [
    {
     "data": {
      "text/html": [
       "<div>\n",
       "<style scoped>\n",
       "    .dataframe tbody tr th:only-of-type {\n",
       "        vertical-align: middle;\n",
       "    }\n",
       "\n",
       "    .dataframe tbody tr th {\n",
       "        vertical-align: top;\n",
       "    }\n",
       "\n",
       "    .dataframe thead th {\n",
       "        text-align: right;\n",
       "    }\n",
       "</style>\n",
       "<table border=\"1\" class=\"dataframe\">\n",
       "  <thead>\n",
       "    <tr style=\"text-align: right;\">\n",
       "      <th></th>\n",
       "      <th>Congress</th>\n",
       "      <th>bill_number</th>\n",
       "      <th>bill_type</th>\n",
       "      <th>action</th>\n",
       "      <th>main_action</th>\n",
       "      <th>category</th>\n",
       "      <th>member_id</th>\n",
       "    </tr>\n",
       "  </thead>\n",
       "  <tbody>\n",
       "    <tr>\n",
       "      <th>3</th>\n",
       "      <td>116</td>\n",
       "      <td>1199</td>\n",
       "      <td>s</td>\n",
       "      <td>Committee on Health, Education, Labor, and Pen...</td>\n",
       "      <td>senate committee/subcommittee actions</td>\n",
       "      <td>senate bill</td>\n",
       "      <td>1561</td>\n",
       "    </tr>\n",
       "    <tr>\n",
       "      <th>4</th>\n",
       "      <td>116</td>\n",
       "      <td>1208</td>\n",
       "      <td>s</td>\n",
       "      <td>Committee on the Judiciary. Reported by Senato...</td>\n",
       "      <td>senate committee/subcommittee actions</td>\n",
       "      <td>senate bill</td>\n",
       "      <td>1580</td>\n",
       "    </tr>\n",
       "    <tr>\n",
       "      <th>5</th>\n",
       "      <td>116</td>\n",
       "      <td>1231</td>\n",
       "      <td>s</td>\n",
       "      <td>Committee on the Judiciary. Reported by Senato...</td>\n",
       "      <td>senate committee/subcommittee actions</td>\n",
       "      <td>senate bill</td>\n",
       "      <td>1580</td>\n",
       "    </tr>\n",
       "    <tr>\n",
       "      <th>6</th>\n",
       "      <td>116</td>\n",
       "      <td>1228</td>\n",
       "      <td>s</td>\n",
       "      <td>Committee on Commerce, Science, and Transporta...</td>\n",
       "      <td>senate committee/subcommittee actions</td>\n",
       "      <td>senate bill</td>\n",
       "      <td>1002</td>\n",
       "    </tr>\n",
       "    <tr>\n",
       "      <th>7</th>\n",
       "      <td>116</td>\n",
       "      <td>123</td>\n",
       "      <td>s</td>\n",
       "      <td>Committee on Veterans' Affairs. Reported by Se...</td>\n",
       "      <td>senate committee/subcommittee actions</td>\n",
       "      <td>senate bill</td>\n",
       "      <td>1490</td>\n",
       "    </tr>\n",
       "    <tr>\n",
       "      <th>...</th>\n",
       "      <td>...</td>\n",
       "      <td>...</td>\n",
       "      <td>...</td>\n",
       "      <td>...</td>\n",
       "      <td>...</td>\n",
       "      <td>...</td>\n",
       "      <td>...</td>\n",
       "    </tr>\n",
       "    <tr>\n",
       "      <th>2944</th>\n",
       "      <td>116</td>\n",
       "      <td>617</td>\n",
       "      <td>hr</td>\n",
       "      <td>Committee on Energy and Natural Resources. Rep...</td>\n",
       "      <td>senate committee/subcommittee actions</td>\n",
       "      <td>house bill</td>\n",
       "      <td>1581</td>\n",
       "    </tr>\n",
       "    <tr>\n",
       "      <th>3081</th>\n",
       "      <td>116</td>\n",
       "      <td>762</td>\n",
       "      <td>hr</td>\n",
       "      <td>Committee on Energy and Natural Resources. Rep...</td>\n",
       "      <td>senate committee/subcommittee actions</td>\n",
       "      <td>house bill</td>\n",
       "      <td>1581</td>\n",
       "    </tr>\n",
       "    <tr>\n",
       "      <th>3142</th>\n",
       "      <td>116</td>\n",
       "      <td>828</td>\n",
       "      <td>hr</td>\n",
       "      <td>Committee on Homeland Security and Governmenta...</td>\n",
       "      <td>senate committee/subcommittee actions</td>\n",
       "      <td>house bill</td>\n",
       "      <td>1701</td>\n",
       "    </tr>\n",
       "    <tr>\n",
       "      <th>3150</th>\n",
       "      <td>116</td>\n",
       "      <td>829</td>\n",
       "      <td>hr</td>\n",
       "      <td>Committee on Homeland Security and Governmenta...</td>\n",
       "      <td>senate committee/subcommittee actions</td>\n",
       "      <td>house bill</td>\n",
       "      <td>1701</td>\n",
       "    </tr>\n",
       "    <tr>\n",
       "      <th>3195</th>\n",
       "      <td>116</td>\n",
       "      <td>887</td>\n",
       "      <td>hr</td>\n",
       "      <td>Committee on Homeland Security and Governmenta...</td>\n",
       "      <td>senate committee/subcommittee actions</td>\n",
       "      <td>house bill</td>\n",
       "      <td>1701</td>\n",
       "    </tr>\n",
       "  </tbody>\n",
       "</table>\n",
       "<p>453 rows × 7 columns</p>\n",
       "</div>"
      ],
      "text/plain": [
       "      Congress  bill_number bill_type  \\\n",
       "3          116         1199         s   \n",
       "4          116         1208         s   \n",
       "5          116         1231         s   \n",
       "6          116         1228         s   \n",
       "7          116          123         s   \n",
       "...        ...          ...       ...   \n",
       "2944       116          617        hr   \n",
       "3081       116          762        hr   \n",
       "3142       116          828        hr   \n",
       "3150       116          829        hr   \n",
       "3195       116          887        hr   \n",
       "\n",
       "                                                 action  \\\n",
       "3     Committee on Health, Education, Labor, and Pen...   \n",
       "4     Committee on the Judiciary. Reported by Senato...   \n",
       "5     Committee on the Judiciary. Reported by Senato...   \n",
       "6     Committee on Commerce, Science, and Transporta...   \n",
       "7     Committee on Veterans' Affairs. Reported by Se...   \n",
       "...                                                 ...   \n",
       "2944  Committee on Energy and Natural Resources. Rep...   \n",
       "3081  Committee on Energy and Natural Resources. Rep...   \n",
       "3142  Committee on Homeland Security and Governmenta...   \n",
       "3150  Committee on Homeland Security and Governmenta...   \n",
       "3195  Committee on Homeland Security and Governmenta...   \n",
       "\n",
       "                                main_action     category  member_id  \n",
       "3     senate committee/subcommittee actions  senate bill       1561  \n",
       "4     senate committee/subcommittee actions  senate bill       1580  \n",
       "5     senate committee/subcommittee actions  senate bill       1580  \n",
       "6     senate committee/subcommittee actions  senate bill       1002  \n",
       "7     senate committee/subcommittee actions  senate bill       1490  \n",
       "...                                     ...          ...        ...  \n",
       "2944  senate committee/subcommittee actions   house bill       1581  \n",
       "3081  senate committee/subcommittee actions   house bill       1581  \n",
       "3142  senate committee/subcommittee actions   house bill       1701  \n",
       "3150  senate committee/subcommittee actions   house bill       1701  \n",
       "3195  senate committee/subcommittee actions   house bill       1701  \n",
       "\n",
       "[453 rows x 7 columns]"
      ]
     },
     "execution_count": 24,
     "metadata": {},
     "output_type": "execute_result"
    }
   ],
   "source": [
    "bills[bills[\"action\"].str.contains(\"Senator\")]"
   ]
  },
  {
   "cell_type": "code",
   "execution_count": 26,
   "metadata": {},
   "outputs": [],
   "source": [
    "# How to replace the word \"Senator\" with \"Custom Title\"\n",
    "bills[\"action_custom\"] = bills[\"action\"].str.replace(\"Senator\",\"Sen.\")"
   ]
  },
  {
   "cell_type": "markdown",
   "metadata": {},
   "source": [
    "<font size = \"5\">\n",
    "\n",
    "Try it yourself!\n",
    "\n",
    "- Obtain a new dataset called \"resolutions\" <br>\n",
    " which subsets rows contain the \"category\" values:\n",
    "\n",
    " ``` [\"house resolution\",\"senate resolution\"] ```"
   ]
  },
  {
   "cell_type": "code",
   "execution_count": 9,
   "metadata": {},
   "outputs": [
    {
     "ename": "UndefinedVariableError",
     "evalue": "name 'resolution' is not defined",
     "output_type": "error",
     "traceback": [
      "\u001b[0;31m---------------------------------------------------------------------------\u001b[0m",
      "\u001b[0;31mKeyError\u001b[0m                                  Traceback (most recent call last)",
      "File \u001b[0;32m~/anaconda3/lib/python3.11/site-packages/pandas/core/computation/scope.py:198\u001b[0m, in \u001b[0;36mScope.resolve\u001b[0;34m(self, key, is_local)\u001b[0m\n\u001b[1;32m    197\u001b[0m \u001b[39mif\u001b[39;00m \u001b[39mself\u001b[39m\u001b[39m.\u001b[39mhas_resolvers:\n\u001b[0;32m--> 198\u001b[0m     \u001b[39mreturn\u001b[39;00m \u001b[39mself\u001b[39m\u001b[39m.\u001b[39mresolvers[key]\n\u001b[1;32m    200\u001b[0m \u001b[39m# if we're here that means that we have no locals and we also have\u001b[39;00m\n\u001b[1;32m    201\u001b[0m \u001b[39m# no resolvers\u001b[39;00m\n",
      "File \u001b[0;32m~/anaconda3/lib/python3.11/collections/__init__.py:1004\u001b[0m, in \u001b[0;36mChainMap.__getitem__\u001b[0;34m(self, key)\u001b[0m\n\u001b[1;32m   1003\u001b[0m         \u001b[39mpass\u001b[39;00m\n\u001b[0;32m-> 1004\u001b[0m \u001b[39mreturn\u001b[39;00m \u001b[39mself\u001b[39m\u001b[39m.\u001b[39m\u001b[39m__missing__\u001b[39m(key)\n",
      "File \u001b[0;32m~/anaconda3/lib/python3.11/collections/__init__.py:996\u001b[0m, in \u001b[0;36mChainMap.__missing__\u001b[0;34m(self, key)\u001b[0m\n\u001b[1;32m    995\u001b[0m \u001b[39mdef\u001b[39;00m \u001b[39m__missing__\u001b[39m(\u001b[39mself\u001b[39m, key):\n\u001b[0;32m--> 996\u001b[0m     \u001b[39mraise\u001b[39;00m \u001b[39mKeyError\u001b[39;00m(key)\n",
      "\u001b[0;31mKeyError\u001b[0m: 'resolution'",
      "\nDuring handling of the above exception, another exception occurred:\n",
      "\u001b[0;31mKeyError\u001b[0m                                  Traceback (most recent call last)",
      "File \u001b[0;32m~/anaconda3/lib/python3.11/site-packages/pandas/core/computation/scope.py:209\u001b[0m, in \u001b[0;36mScope.resolve\u001b[0;34m(self, key, is_local)\u001b[0m\n\u001b[1;32m    205\u001b[0m \u001b[39mtry\u001b[39;00m:\n\u001b[1;32m    206\u001b[0m     \u001b[39m# last ditch effort we look in temporaries\u001b[39;00m\n\u001b[1;32m    207\u001b[0m     \u001b[39m# these are created when parsing indexing expressions\u001b[39;00m\n\u001b[1;32m    208\u001b[0m     \u001b[39m# e.g., df[df > 0]\u001b[39;00m\n\u001b[0;32m--> 209\u001b[0m     \u001b[39mreturn\u001b[39;00m \u001b[39mself\u001b[39m\u001b[39m.\u001b[39mtemps[key]\n\u001b[1;32m    210\u001b[0m \u001b[39mexcept\u001b[39;00m \u001b[39mKeyError\u001b[39;00m \u001b[39mas\u001b[39;00m err:\n",
      "\u001b[0;31mKeyError\u001b[0m: 'resolution'",
      "\nThe above exception was the direct cause of the following exception:\n",
      "\u001b[0;31mUndefinedVariableError\u001b[0m                    Traceback (most recent call last)",
      "Cell \u001b[0;32mIn[9], line 4\u001b[0m\n\u001b[1;32m      1\u001b[0m \u001b[39m# Write your own code\u001b[39;00m\n\u001b[1;32m      2\u001b[0m list_resolution_names \u001b[39m=\u001b[39m [\u001b[39m\"\u001b[39m\u001b[39mhouse resolution\u001b[39m\u001b[39m\"\u001b[39m,\u001b[39m\"\u001b[39m\u001b[39msenate resolution\u001b[39m\u001b[39m\"\u001b[39m]\n\u001b[0;32m----> 4\u001b[0m resolutions \u001b[39m=\u001b[39m bills_actions\u001b[39m.\u001b[39mquery(\u001b[39m\"\u001b[39m\u001b[39mresolution in @list_resolution_names\u001b[39m\u001b[39m\"\u001b[39m)\n",
      "File \u001b[0;32m~/anaconda3/lib/python3.11/site-packages/pandas/util/_decorators.py:331\u001b[0m, in \u001b[0;36mdeprecate_nonkeyword_arguments.<locals>.decorate.<locals>.wrapper\u001b[0;34m(*args, **kwargs)\u001b[0m\n\u001b[1;32m    325\u001b[0m \u001b[39mif\u001b[39;00m \u001b[39mlen\u001b[39m(args) \u001b[39m>\u001b[39m num_allow_args:\n\u001b[1;32m    326\u001b[0m     warnings\u001b[39m.\u001b[39mwarn(\n\u001b[1;32m    327\u001b[0m         msg\u001b[39m.\u001b[39mformat(arguments\u001b[39m=\u001b[39m_format_argument_list(allow_args)),\n\u001b[1;32m    328\u001b[0m         \u001b[39mFutureWarning\u001b[39;00m,\n\u001b[1;32m    329\u001b[0m         stacklevel\u001b[39m=\u001b[39mfind_stack_level(),\n\u001b[1;32m    330\u001b[0m     )\n\u001b[0;32m--> 331\u001b[0m \u001b[39mreturn\u001b[39;00m func(\u001b[39m*\u001b[39margs, \u001b[39m*\u001b[39m\u001b[39m*\u001b[39mkwargs)\n",
      "File \u001b[0;32m~/anaconda3/lib/python3.11/site-packages/pandas/core/frame.py:4474\u001b[0m, in \u001b[0;36mDataFrame.query\u001b[0;34m(self, expr, inplace, **kwargs)\u001b[0m\n\u001b[1;32m   4472\u001b[0m kwargs[\u001b[39m\"\u001b[39m\u001b[39mlevel\u001b[39m\u001b[39m\"\u001b[39m] \u001b[39m=\u001b[39m kwargs\u001b[39m.\u001b[39mpop(\u001b[39m\"\u001b[39m\u001b[39mlevel\u001b[39m\u001b[39m\"\u001b[39m, \u001b[39m0\u001b[39m) \u001b[39m+\u001b[39m \u001b[39m2\u001b[39m\n\u001b[1;32m   4473\u001b[0m kwargs[\u001b[39m\"\u001b[39m\u001b[39mtarget\u001b[39m\u001b[39m\"\u001b[39m] \u001b[39m=\u001b[39m \u001b[39mNone\u001b[39;00m\n\u001b[0;32m-> 4474\u001b[0m res \u001b[39m=\u001b[39m \u001b[39mself\u001b[39m\u001b[39m.\u001b[39meval(expr, \u001b[39m*\u001b[39m\u001b[39m*\u001b[39mkwargs)\n\u001b[1;32m   4476\u001b[0m \u001b[39mtry\u001b[39;00m:\n\u001b[1;32m   4477\u001b[0m     result \u001b[39m=\u001b[39m \u001b[39mself\u001b[39m\u001b[39m.\u001b[39mloc[res]\n",
      "File \u001b[0;32m~/anaconda3/lib/python3.11/site-packages/pandas/util/_decorators.py:331\u001b[0m, in \u001b[0;36mdeprecate_nonkeyword_arguments.<locals>.decorate.<locals>.wrapper\u001b[0;34m(*args, **kwargs)\u001b[0m\n\u001b[1;32m    325\u001b[0m \u001b[39mif\u001b[39;00m \u001b[39mlen\u001b[39m(args) \u001b[39m>\u001b[39m num_allow_args:\n\u001b[1;32m    326\u001b[0m     warnings\u001b[39m.\u001b[39mwarn(\n\u001b[1;32m    327\u001b[0m         msg\u001b[39m.\u001b[39mformat(arguments\u001b[39m=\u001b[39m_format_argument_list(allow_args)),\n\u001b[1;32m    328\u001b[0m         \u001b[39mFutureWarning\u001b[39;00m,\n\u001b[1;32m    329\u001b[0m         stacklevel\u001b[39m=\u001b[39mfind_stack_level(),\n\u001b[1;32m    330\u001b[0m     )\n\u001b[0;32m--> 331\u001b[0m \u001b[39mreturn\u001b[39;00m func(\u001b[39m*\u001b[39margs, \u001b[39m*\u001b[39m\u001b[39m*\u001b[39mkwargs)\n",
      "File \u001b[0;32m~/anaconda3/lib/python3.11/site-packages/pandas/core/frame.py:4612\u001b[0m, in \u001b[0;36mDataFrame.eval\u001b[0;34m(self, expr, inplace, **kwargs)\u001b[0m\n\u001b[1;32m   4609\u001b[0m     kwargs[\u001b[39m\"\u001b[39m\u001b[39mtarget\u001b[39m\u001b[39m\"\u001b[39m] \u001b[39m=\u001b[39m \u001b[39mself\u001b[39m\n\u001b[1;32m   4610\u001b[0m kwargs[\u001b[39m\"\u001b[39m\u001b[39mresolvers\u001b[39m\u001b[39m\"\u001b[39m] \u001b[39m=\u001b[39m \u001b[39mtuple\u001b[39m(kwargs\u001b[39m.\u001b[39mget(\u001b[39m\"\u001b[39m\u001b[39mresolvers\u001b[39m\u001b[39m\"\u001b[39m, ())) \u001b[39m+\u001b[39m resolvers\n\u001b[0;32m-> 4612\u001b[0m \u001b[39mreturn\u001b[39;00m _eval(expr, inplace\u001b[39m=\u001b[39minplace, \u001b[39m*\u001b[39m\u001b[39m*\u001b[39mkwargs)\n",
      "File \u001b[0;32m~/anaconda3/lib/python3.11/site-packages/pandas/core/computation/eval.py:353\u001b[0m, in \u001b[0;36meval\u001b[0;34m(expr, parser, engine, truediv, local_dict, global_dict, resolvers, level, target, inplace)\u001b[0m\n\u001b[1;32m    344\u001b[0m \u001b[39m# get our (possibly passed-in) scope\u001b[39;00m\n\u001b[1;32m    345\u001b[0m env \u001b[39m=\u001b[39m ensure_scope(\n\u001b[1;32m    346\u001b[0m     level \u001b[39m+\u001b[39m \u001b[39m1\u001b[39m,\n\u001b[1;32m    347\u001b[0m     global_dict\u001b[39m=\u001b[39mglobal_dict,\n\u001b[0;32m   (...)\u001b[0m\n\u001b[1;32m    350\u001b[0m     target\u001b[39m=\u001b[39mtarget,\n\u001b[1;32m    351\u001b[0m )\n\u001b[0;32m--> 353\u001b[0m parsed_expr \u001b[39m=\u001b[39m Expr(expr, engine\u001b[39m=\u001b[39mengine, parser\u001b[39m=\u001b[39mparser, env\u001b[39m=\u001b[39menv)\n\u001b[1;32m    355\u001b[0m \u001b[39m# construct the engine and evaluate the parsed expression\u001b[39;00m\n\u001b[1;32m    356\u001b[0m eng \u001b[39m=\u001b[39m ENGINES[engine]\n",
      "File \u001b[0;32m~/anaconda3/lib/python3.11/site-packages/pandas/core/computation/expr.py:813\u001b[0m, in \u001b[0;36mExpr.__init__\u001b[0;34m(self, expr, engine, parser, env, level)\u001b[0m\n\u001b[1;32m    811\u001b[0m \u001b[39mself\u001b[39m\u001b[39m.\u001b[39mparser \u001b[39m=\u001b[39m parser\n\u001b[1;32m    812\u001b[0m \u001b[39mself\u001b[39m\u001b[39m.\u001b[39m_visitor \u001b[39m=\u001b[39m PARSERS[parser](\u001b[39mself\u001b[39m\u001b[39m.\u001b[39menv, \u001b[39mself\u001b[39m\u001b[39m.\u001b[39mengine, \u001b[39mself\u001b[39m\u001b[39m.\u001b[39mparser)\n\u001b[0;32m--> 813\u001b[0m \u001b[39mself\u001b[39m\u001b[39m.\u001b[39mterms \u001b[39m=\u001b[39m \u001b[39mself\u001b[39m\u001b[39m.\u001b[39mparse()\n",
      "File \u001b[0;32m~/anaconda3/lib/python3.11/site-packages/pandas/core/computation/expr.py:832\u001b[0m, in \u001b[0;36mExpr.parse\u001b[0;34m(self)\u001b[0m\n\u001b[1;32m    828\u001b[0m \u001b[39mdef\u001b[39;00m \u001b[39mparse\u001b[39m(\u001b[39mself\u001b[39m):\n\u001b[1;32m    829\u001b[0m \u001b[39m    \u001b[39m\u001b[39m\"\"\"\u001b[39;00m\n\u001b[1;32m    830\u001b[0m \u001b[39m    Parse an expression.\u001b[39;00m\n\u001b[1;32m    831\u001b[0m \u001b[39m    \"\"\"\u001b[39;00m\n\u001b[0;32m--> 832\u001b[0m     \u001b[39mreturn\u001b[39;00m \u001b[39mself\u001b[39m\u001b[39m.\u001b[39m_visitor\u001b[39m.\u001b[39mvisit(\u001b[39mself\u001b[39m\u001b[39m.\u001b[39mexpr)\n",
      "File \u001b[0;32m~/anaconda3/lib/python3.11/site-packages/pandas/core/computation/expr.py:415\u001b[0m, in \u001b[0;36mBaseExprVisitor.visit\u001b[0;34m(self, node, **kwargs)\u001b[0m\n\u001b[1;32m    413\u001b[0m method \u001b[39m=\u001b[39m \u001b[39m\"\u001b[39m\u001b[39mvisit_\u001b[39m\u001b[39m\"\u001b[39m \u001b[39m+\u001b[39m \u001b[39mtype\u001b[39m(node)\u001b[39m.\u001b[39m\u001b[39m__name__\u001b[39m\n\u001b[1;32m    414\u001b[0m visitor \u001b[39m=\u001b[39m \u001b[39mgetattr\u001b[39m(\u001b[39mself\u001b[39m, method)\n\u001b[0;32m--> 415\u001b[0m \u001b[39mreturn\u001b[39;00m visitor(node, \u001b[39m*\u001b[39m\u001b[39m*\u001b[39mkwargs)\n",
      "File \u001b[0;32m~/anaconda3/lib/python3.11/site-packages/pandas/core/computation/expr.py:421\u001b[0m, in \u001b[0;36mBaseExprVisitor.visit_Module\u001b[0;34m(self, node, **kwargs)\u001b[0m\n\u001b[1;32m    419\u001b[0m     \u001b[39mraise\u001b[39;00m \u001b[39mSyntaxError\u001b[39;00m(\u001b[39m\"\u001b[39m\u001b[39monly a single expression is allowed\u001b[39m\u001b[39m\"\u001b[39m)\n\u001b[1;32m    420\u001b[0m expr \u001b[39m=\u001b[39m node\u001b[39m.\u001b[39mbody[\u001b[39m0\u001b[39m]\n\u001b[0;32m--> 421\u001b[0m \u001b[39mreturn\u001b[39;00m \u001b[39mself\u001b[39m\u001b[39m.\u001b[39mvisit(expr, \u001b[39m*\u001b[39m\u001b[39m*\u001b[39mkwargs)\n",
      "File \u001b[0;32m~/anaconda3/lib/python3.11/site-packages/pandas/core/computation/expr.py:415\u001b[0m, in \u001b[0;36mBaseExprVisitor.visit\u001b[0;34m(self, node, **kwargs)\u001b[0m\n\u001b[1;32m    413\u001b[0m method \u001b[39m=\u001b[39m \u001b[39m\"\u001b[39m\u001b[39mvisit_\u001b[39m\u001b[39m\"\u001b[39m \u001b[39m+\u001b[39m \u001b[39mtype\u001b[39m(node)\u001b[39m.\u001b[39m\u001b[39m__name__\u001b[39m\n\u001b[1;32m    414\u001b[0m visitor \u001b[39m=\u001b[39m \u001b[39mgetattr\u001b[39m(\u001b[39mself\u001b[39m, method)\n\u001b[0;32m--> 415\u001b[0m \u001b[39mreturn\u001b[39;00m visitor(node, \u001b[39m*\u001b[39m\u001b[39m*\u001b[39mkwargs)\n",
      "File \u001b[0;32m~/anaconda3/lib/python3.11/site-packages/pandas/core/computation/expr.py:424\u001b[0m, in \u001b[0;36mBaseExprVisitor.visit_Expr\u001b[0;34m(self, node, **kwargs)\u001b[0m\n\u001b[1;32m    423\u001b[0m \u001b[39mdef\u001b[39;00m \u001b[39mvisit_Expr\u001b[39m(\u001b[39mself\u001b[39m, node, \u001b[39m*\u001b[39m\u001b[39m*\u001b[39mkwargs):\n\u001b[0;32m--> 424\u001b[0m     \u001b[39mreturn\u001b[39;00m \u001b[39mself\u001b[39m\u001b[39m.\u001b[39mvisit(node\u001b[39m.\u001b[39mvalue, \u001b[39m*\u001b[39m\u001b[39m*\u001b[39mkwargs)\n",
      "File \u001b[0;32m~/anaconda3/lib/python3.11/site-packages/pandas/core/computation/expr.py:415\u001b[0m, in \u001b[0;36mBaseExprVisitor.visit\u001b[0;34m(self, node, **kwargs)\u001b[0m\n\u001b[1;32m    413\u001b[0m method \u001b[39m=\u001b[39m \u001b[39m\"\u001b[39m\u001b[39mvisit_\u001b[39m\u001b[39m\"\u001b[39m \u001b[39m+\u001b[39m \u001b[39mtype\u001b[39m(node)\u001b[39m.\u001b[39m\u001b[39m__name__\u001b[39m\n\u001b[1;32m    414\u001b[0m visitor \u001b[39m=\u001b[39m \u001b[39mgetattr\u001b[39m(\u001b[39mself\u001b[39m, method)\n\u001b[0;32m--> 415\u001b[0m \u001b[39mreturn\u001b[39;00m visitor(node, \u001b[39m*\u001b[39m\u001b[39m*\u001b[39mkwargs)\n",
      "File \u001b[0;32m~/anaconda3/lib/python3.11/site-packages/pandas/core/computation/expr.py:723\u001b[0m, in \u001b[0;36mBaseExprVisitor.visit_Compare\u001b[0;34m(self, node, **kwargs)\u001b[0m\n\u001b[1;32m    721\u001b[0m     op \u001b[39m=\u001b[39m \u001b[39mself\u001b[39m\u001b[39m.\u001b[39mtranslate_In(ops[\u001b[39m0\u001b[39m])\n\u001b[1;32m    722\u001b[0m     binop \u001b[39m=\u001b[39m ast\u001b[39m.\u001b[39mBinOp(op\u001b[39m=\u001b[39mop, left\u001b[39m=\u001b[39mnode\u001b[39m.\u001b[39mleft, right\u001b[39m=\u001b[39mcomps[\u001b[39m0\u001b[39m])\n\u001b[0;32m--> 723\u001b[0m     \u001b[39mreturn\u001b[39;00m \u001b[39mself\u001b[39m\u001b[39m.\u001b[39mvisit(binop)\n\u001b[1;32m    725\u001b[0m \u001b[39m# recursive case: we have a chained comparison, a CMP b CMP c, etc.\u001b[39;00m\n\u001b[1;32m    726\u001b[0m left \u001b[39m=\u001b[39m node\u001b[39m.\u001b[39mleft\n",
      "File \u001b[0;32m~/anaconda3/lib/python3.11/site-packages/pandas/core/computation/expr.py:415\u001b[0m, in \u001b[0;36mBaseExprVisitor.visit\u001b[0;34m(self, node, **kwargs)\u001b[0m\n\u001b[1;32m    413\u001b[0m method \u001b[39m=\u001b[39m \u001b[39m\"\u001b[39m\u001b[39mvisit_\u001b[39m\u001b[39m\"\u001b[39m \u001b[39m+\u001b[39m \u001b[39mtype\u001b[39m(node)\u001b[39m.\u001b[39m\u001b[39m__name__\u001b[39m\n\u001b[1;32m    414\u001b[0m visitor \u001b[39m=\u001b[39m \u001b[39mgetattr\u001b[39m(\u001b[39mself\u001b[39m, method)\n\u001b[0;32m--> 415\u001b[0m \u001b[39mreturn\u001b[39;00m visitor(node, \u001b[39m*\u001b[39m\u001b[39m*\u001b[39mkwargs)\n",
      "File \u001b[0;32m~/anaconda3/lib/python3.11/site-packages/pandas/core/computation/expr.py:536\u001b[0m, in \u001b[0;36mBaseExprVisitor.visit_BinOp\u001b[0;34m(self, node, **kwargs)\u001b[0m\n\u001b[1;32m    535\u001b[0m \u001b[39mdef\u001b[39;00m \u001b[39mvisit_BinOp\u001b[39m(\u001b[39mself\u001b[39m, node, \u001b[39m*\u001b[39m\u001b[39m*\u001b[39mkwargs):\n\u001b[0;32m--> 536\u001b[0m     op, op_class, left, right \u001b[39m=\u001b[39m \u001b[39mself\u001b[39m\u001b[39m.\u001b[39m_maybe_transform_eq_ne(node)\n\u001b[1;32m    537\u001b[0m     left, right \u001b[39m=\u001b[39m \u001b[39mself\u001b[39m\u001b[39m.\u001b[39m_maybe_downcast_constants(left, right)\n\u001b[1;32m    538\u001b[0m     \u001b[39mreturn\u001b[39;00m \u001b[39mself\u001b[39m\u001b[39m.\u001b[39m_maybe_evaluate_binop(op, op_class, left, right)\n",
      "File \u001b[0;32m~/anaconda3/lib/python3.11/site-packages/pandas/core/computation/expr.py:456\u001b[0m, in \u001b[0;36mBaseExprVisitor._maybe_transform_eq_ne\u001b[0;34m(self, node, left, right)\u001b[0m\n\u001b[1;32m    454\u001b[0m \u001b[39mdef\u001b[39;00m \u001b[39m_maybe_transform_eq_ne\u001b[39m(\u001b[39mself\u001b[39m, node, left\u001b[39m=\u001b[39m\u001b[39mNone\u001b[39;00m, right\u001b[39m=\u001b[39m\u001b[39mNone\u001b[39;00m):\n\u001b[1;32m    455\u001b[0m     \u001b[39mif\u001b[39;00m left \u001b[39mis\u001b[39;00m \u001b[39mNone\u001b[39;00m:\n\u001b[0;32m--> 456\u001b[0m         left \u001b[39m=\u001b[39m \u001b[39mself\u001b[39m\u001b[39m.\u001b[39mvisit(node\u001b[39m.\u001b[39mleft, side\u001b[39m=\u001b[39m\u001b[39m\"\u001b[39m\u001b[39mleft\u001b[39m\u001b[39m\"\u001b[39m)\n\u001b[1;32m    457\u001b[0m     \u001b[39mif\u001b[39;00m right \u001b[39mis\u001b[39;00m \u001b[39mNone\u001b[39;00m:\n\u001b[1;32m    458\u001b[0m         right \u001b[39m=\u001b[39m \u001b[39mself\u001b[39m\u001b[39m.\u001b[39mvisit(node\u001b[39m.\u001b[39mright, side\u001b[39m=\u001b[39m\u001b[39m\"\u001b[39m\u001b[39mright\u001b[39m\u001b[39m\"\u001b[39m)\n",
      "File \u001b[0;32m~/anaconda3/lib/python3.11/site-packages/pandas/core/computation/expr.py:415\u001b[0m, in \u001b[0;36mBaseExprVisitor.visit\u001b[0;34m(self, node, **kwargs)\u001b[0m\n\u001b[1;32m    413\u001b[0m method \u001b[39m=\u001b[39m \u001b[39m\"\u001b[39m\u001b[39mvisit_\u001b[39m\u001b[39m\"\u001b[39m \u001b[39m+\u001b[39m \u001b[39mtype\u001b[39m(node)\u001b[39m.\u001b[39m\u001b[39m__name__\u001b[39m\n\u001b[1;32m    414\u001b[0m visitor \u001b[39m=\u001b[39m \u001b[39mgetattr\u001b[39m(\u001b[39mself\u001b[39m, method)\n\u001b[0;32m--> 415\u001b[0m \u001b[39mreturn\u001b[39;00m visitor(node, \u001b[39m*\u001b[39m\u001b[39m*\u001b[39mkwargs)\n",
      "File \u001b[0;32m~/anaconda3/lib/python3.11/site-packages/pandas/core/computation/expr.py:549\u001b[0m, in \u001b[0;36mBaseExprVisitor.visit_Name\u001b[0;34m(self, node, **kwargs)\u001b[0m\n\u001b[1;32m    548\u001b[0m \u001b[39mdef\u001b[39;00m \u001b[39mvisit_Name\u001b[39m(\u001b[39mself\u001b[39m, node, \u001b[39m*\u001b[39m\u001b[39m*\u001b[39mkwargs):\n\u001b[0;32m--> 549\u001b[0m     \u001b[39mreturn\u001b[39;00m \u001b[39mself\u001b[39m\u001b[39m.\u001b[39mterm_type(node\u001b[39m.\u001b[39mid, \u001b[39mself\u001b[39m\u001b[39m.\u001b[39menv, \u001b[39m*\u001b[39m\u001b[39m*\u001b[39mkwargs)\n",
      "File \u001b[0;32m~/anaconda3/lib/python3.11/site-packages/pandas/core/computation/ops.py:85\u001b[0m, in \u001b[0;36mTerm.__init__\u001b[0;34m(self, name, env, side, encoding)\u001b[0m\n\u001b[1;32m     83\u001b[0m tname \u001b[39m=\u001b[39m \u001b[39mstr\u001b[39m(name)\n\u001b[1;32m     84\u001b[0m \u001b[39mself\u001b[39m\u001b[39m.\u001b[39mis_local \u001b[39m=\u001b[39m tname\u001b[39m.\u001b[39mstartswith(LOCAL_TAG) \u001b[39mor\u001b[39;00m tname \u001b[39min\u001b[39;00m DEFAULT_GLOBALS\n\u001b[0;32m---> 85\u001b[0m \u001b[39mself\u001b[39m\u001b[39m.\u001b[39m_value \u001b[39m=\u001b[39m \u001b[39mself\u001b[39m\u001b[39m.\u001b[39m_resolve_name()\n\u001b[1;32m     86\u001b[0m \u001b[39mself\u001b[39m\u001b[39m.\u001b[39mencoding \u001b[39m=\u001b[39m encoding\n",
      "File \u001b[0;32m~/anaconda3/lib/python3.11/site-packages/pandas/core/computation/ops.py:109\u001b[0m, in \u001b[0;36mTerm._resolve_name\u001b[0;34m(self)\u001b[0m\n\u001b[1;32m    104\u001b[0m \u001b[39mif\u001b[39;00m local_name \u001b[39min\u001b[39;00m \u001b[39mself\u001b[39m\u001b[39m.\u001b[39menv\u001b[39m.\u001b[39mscope \u001b[39mand\u001b[39;00m \u001b[39misinstance\u001b[39m(\n\u001b[1;32m    105\u001b[0m     \u001b[39mself\u001b[39m\u001b[39m.\u001b[39menv\u001b[39m.\u001b[39mscope[local_name], \u001b[39mtype\u001b[39m\n\u001b[1;32m    106\u001b[0m ):\n\u001b[1;32m    107\u001b[0m     is_local \u001b[39m=\u001b[39m \u001b[39mFalse\u001b[39;00m\n\u001b[0;32m--> 109\u001b[0m res \u001b[39m=\u001b[39m \u001b[39mself\u001b[39m\u001b[39m.\u001b[39menv\u001b[39m.\u001b[39mresolve(local_name, is_local\u001b[39m=\u001b[39mis_local)\n\u001b[1;32m    110\u001b[0m \u001b[39mself\u001b[39m\u001b[39m.\u001b[39mupdate(res)\n\u001b[1;32m    112\u001b[0m \u001b[39mif\u001b[39;00m \u001b[39mhasattr\u001b[39m(res, \u001b[39m\"\u001b[39m\u001b[39mndim\u001b[39m\u001b[39m\"\u001b[39m) \u001b[39mand\u001b[39;00m res\u001b[39m.\u001b[39mndim \u001b[39m>\u001b[39m \u001b[39m2\u001b[39m:\n",
      "File \u001b[0;32m~/anaconda3/lib/python3.11/site-packages/pandas/core/computation/scope.py:211\u001b[0m, in \u001b[0;36mScope.resolve\u001b[0;34m(self, key, is_local)\u001b[0m\n\u001b[1;32m    209\u001b[0m     \u001b[39mreturn\u001b[39;00m \u001b[39mself\u001b[39m\u001b[39m.\u001b[39mtemps[key]\n\u001b[1;32m    210\u001b[0m \u001b[39mexcept\u001b[39;00m \u001b[39mKeyError\u001b[39;00m \u001b[39mas\u001b[39;00m err:\n\u001b[0;32m--> 211\u001b[0m     \u001b[39mraise\u001b[39;00m UndefinedVariableError(key, is_local) \u001b[39mfrom\u001b[39;00m \u001b[39merr\u001b[39;00m\n",
      "\u001b[0;31mUndefinedVariableError\u001b[0m: name 'resolution' is not defined"
     ]
    }
   ],
   "source": [
    "# Write your own code\n",
    "\n",
    "list_categories = [\"house bill\",\"senate bill\"]\n",
    "bills = bills_actions.query('category in @list_categories')\n",
    "\n",
    "\n",
    "\n",
    "list_resolution_names = [\"house resolution\",\"senate resolution\"]\n",
    "\n",
    "resolutions = bills_category.query(\"resolution in @list_resolution_names\")"
   ]
  },
  {
   "attachments": {},
   "cell_type": "markdown",
   "metadata": {},
   "source": [
    "# <span style=\"color:darkblue\"> III. Regular Expressions </span>\n",
    "\n",
    "<font size = \"5\">\n",
    "\n",
    "Regular expressions enable advanced searching <br>\n",
    "for string data."
   ]
  },
  {
   "cell_type": "code",
   "execution_count": 10,
   "metadata": {},
   "outputs": [],
   "source": [
    "dataset = pd.read_csv(\"data_raw/bills_actions.csv\")\n",
    "senate_bills = dataset.query('category == \"senate bill\"')\n",
    "amendments = dataset.query('category == \"amendment\"')"
   ]
  },
  {
   "cell_type": "code",
   "execution_count": 11,
   "metadata": {},
   "outputs": [],
   "source": [
    "to_reconsider = dataset[dataset['action'].str.contains('to reconsider')]"
   ]
  },
  {
   "cell_type": "code",
   "execution_count": 12,
   "metadata": {},
   "outputs": [
    {
     "data": {
      "text/html": [
       "<div>\n",
       "<style scoped>\n",
       "    .dataframe tbody tr th:only-of-type {\n",
       "        vertical-align: middle;\n",
       "    }\n",
       "\n",
       "    .dataframe tbody tr th {\n",
       "        vertical-align: top;\n",
       "    }\n",
       "\n",
       "    .dataframe thead th {\n",
       "        text-align: right;\n",
       "    }\n",
       "</style>\n",
       "<table border=\"1\" class=\"dataframe\">\n",
       "  <thead>\n",
       "    <tr style=\"text-align: right;\">\n",
       "      <th></th>\n",
       "      <th>Congress</th>\n",
       "      <th>bill_number</th>\n",
       "      <th>bill_type</th>\n",
       "      <th>action</th>\n",
       "      <th>main_action</th>\n",
       "      <th>category</th>\n",
       "      <th>member_id</th>\n",
       "    </tr>\n",
       "  </thead>\n",
       "  <tbody>\n",
       "    <tr>\n",
       "      <th>0</th>\n",
       "      <td>116</td>\n",
       "      <td>1029</td>\n",
       "      <td>s</td>\n",
       "      <td>S.Amdt.1274 Amendment SA 1274 proposed by Sena...</td>\n",
       "      <td>senate amendment proposed (on the floor)</td>\n",
       "      <td>amendment</td>\n",
       "      <td>858</td>\n",
       "    </tr>\n",
       "    <tr>\n",
       "      <th>1</th>\n",
       "      <td>116</td>\n",
       "      <td>1031</td>\n",
       "      <td>s</td>\n",
       "      <td>S.Amdt.2698 Amendment SA 2698 proposed by Sena...</td>\n",
       "      <td>senate amendment proposed (on the floor)</td>\n",
       "      <td>amendment</td>\n",
       "      <td>675</td>\n",
       "    </tr>\n",
       "    <tr>\n",
       "      <th>2</th>\n",
       "      <td>116</td>\n",
       "      <td>1160</td>\n",
       "      <td>s</td>\n",
       "      <td>S.Amdt.2659 Amendment SA 2659 proposed by Sena...</td>\n",
       "      <td>senate amendment proposed (on the floor)</td>\n",
       "      <td>amendment</td>\n",
       "      <td>858</td>\n",
       "    </tr>\n",
       "    <tr>\n",
       "      <th>8</th>\n",
       "      <td>116</td>\n",
       "      <td>1253</td>\n",
       "      <td>s</td>\n",
       "      <td>S.Amdt.2424 Amendment SA 2424 proposed by Sena...</td>\n",
       "      <td>senate amendment proposed (on the floor)</td>\n",
       "      <td>amendment</td>\n",
       "      <td>297</td>\n",
       "    </tr>\n",
       "    <tr>\n",
       "      <th>11</th>\n",
       "      <td>116</td>\n",
       "      <td>1309</td>\n",
       "      <td>s</td>\n",
       "      <td>S.Amdt.1275 Amendment SA 1275 proposed by Sena...</td>\n",
       "      <td>senate amendment proposed (on the floor)</td>\n",
       "      <td>amendment</td>\n",
       "      <td>858</td>\n",
       "    </tr>\n",
       "    <tr>\n",
       "      <th>...</th>\n",
       "      <td>...</td>\n",
       "      <td>...</td>\n",
       "      <td>...</td>\n",
       "      <td>...</td>\n",
       "      <td>...</td>\n",
       "      <td>...</td>\n",
       "      <td>...</td>\n",
       "    </tr>\n",
       "    <tr>\n",
       "      <th>3298</th>\n",
       "      <td>116</td>\n",
       "      <td>9</td>\n",
       "      <td>hr</td>\n",
       "      <td>H.Amdt.172 Amendment (A004) offered by Ms. Kus...</td>\n",
       "      <td>house amendment offered</td>\n",
       "      <td>amendment</td>\n",
       "      <td>36</td>\n",
       "    </tr>\n",
       "    <tr>\n",
       "      <th>3299</th>\n",
       "      <td>116</td>\n",
       "      <td>9</td>\n",
       "      <td>hr</td>\n",
       "      <td>H.Amdt.171 Amendment (A003) offered by Ms. Hou...</td>\n",
       "      <td>house amendment offered</td>\n",
       "      <td>amendment</td>\n",
       "      <td>186</td>\n",
       "    </tr>\n",
       "    <tr>\n",
       "      <th>3300</th>\n",
       "      <td>116</td>\n",
       "      <td>9</td>\n",
       "      <td>hr</td>\n",
       "      <td>H.Amdt.170 Amendment (A002) offered by Ms. Oma...</td>\n",
       "      <td>house amendment offered</td>\n",
       "      <td>amendment</td>\n",
       "      <td>477</td>\n",
       "    </tr>\n",
       "    <tr>\n",
       "      <th>3301</th>\n",
       "      <td>116</td>\n",
       "      <td>9</td>\n",
       "      <td>hr</td>\n",
       "      <td>POSTPONED PROCEEDINGS - At the conclusion of d...</td>\n",
       "      <td>other house amendment actions</td>\n",
       "      <td>amendment</td>\n",
       "      <td>393</td>\n",
       "    </tr>\n",
       "    <tr>\n",
       "      <th>3302</th>\n",
       "      <td>116</td>\n",
       "      <td>9</td>\n",
       "      <td>hr</td>\n",
       "      <td>H.Amdt.169 Amendment (A001) offered by Mr. Esp...</td>\n",
       "      <td>house amendment offered</td>\n",
       "      <td>amendment</td>\n",
       "      <td>6</td>\n",
       "    </tr>\n",
       "  </tbody>\n",
       "</table>\n",
       "<p>1529 rows × 7 columns</p>\n",
       "</div>"
      ],
      "text/plain": [
       "      Congress  bill_number bill_type  \\\n",
       "0          116         1029         s   \n",
       "1          116         1031         s   \n",
       "2          116         1160         s   \n",
       "8          116         1253         s   \n",
       "11         116         1309         s   \n",
       "...        ...          ...       ...   \n",
       "3298       116            9        hr   \n",
       "3299       116            9        hr   \n",
       "3300       116            9        hr   \n",
       "3301       116            9        hr   \n",
       "3302       116            9        hr   \n",
       "\n",
       "                                                 action  \\\n",
       "0     S.Amdt.1274 Amendment SA 1274 proposed by Sena...   \n",
       "1     S.Amdt.2698 Amendment SA 2698 proposed by Sena...   \n",
       "2     S.Amdt.2659 Amendment SA 2659 proposed by Sena...   \n",
       "8     S.Amdt.2424 Amendment SA 2424 proposed by Sena...   \n",
       "11    S.Amdt.1275 Amendment SA 1275 proposed by Sena...   \n",
       "...                                                 ...   \n",
       "3298  H.Amdt.172 Amendment (A004) offered by Ms. Kus...   \n",
       "3299  H.Amdt.171 Amendment (A003) offered by Ms. Hou...   \n",
       "3300  H.Amdt.170 Amendment (A002) offered by Ms. Oma...   \n",
       "3301  POSTPONED PROCEEDINGS - At the conclusion of d...   \n",
       "3302  H.Amdt.169 Amendment (A001) offered by Mr. Esp...   \n",
       "\n",
       "                                   main_action   category  member_id  \n",
       "0     senate amendment proposed (on the floor)  amendment        858  \n",
       "1     senate amendment proposed (on the floor)  amendment        675  \n",
       "2     senate amendment proposed (on the floor)  amendment        858  \n",
       "8     senate amendment proposed (on the floor)  amendment        297  \n",
       "11    senate amendment proposed (on the floor)  amendment        858  \n",
       "...                                        ...        ...        ...  \n",
       "3298                   house amendment offered  amendment         36  \n",
       "3299                   house amendment offered  amendment        186  \n",
       "3300                   house amendment offered  amendment        477  \n",
       "3301             other house amendment actions  amendment        393  \n",
       "3302                   house amendment offered  amendment          6  \n",
       "\n",
       "[1529 rows x 7 columns]"
      ]
     },
     "metadata": {},
     "output_type": "display_data"
    }
   ],
   "source": [
    "display(amendments)"
   ]
  },
  {
   "attachments": {},
   "cell_type": "markdown",
   "metadata": {},
   "source": [
    "<font size = \"5\">\n",
    "\n",
    "Search word"
   ]
  },
  {
   "cell_type": "code",
   "execution_count": 13,
   "metadata": {},
   "outputs": [
    {
     "data": {
      "text/plain": [
       "0       [Amdt.1274 ]\n",
       "1       [Amdt.2698 ]\n",
       "2       [Amdt.2659 ]\n",
       "8       [Amdt.2424 ]\n",
       "11      [Amdt.1275 ]\n",
       "            ...     \n",
       "3298    [Amdt.172 A]\n",
       "3299    [Amdt.171 A]\n",
       "3300    [Amdt.170 A]\n",
       "3301              []\n",
       "3302    [Amdt.169 A]\n",
       "Name: action, Length: 1529, dtype: object"
      ]
     },
     "execution_count": 13,
     "metadata": {},
     "output_type": "execute_result"
    }
   ],
   "source": [
    "# We use the \".str.findall()\" subfunction\n",
    "# The argument is an expression\n",
    "\n",
    "amendments[\"action\"].str.findall(\"Amdt\\.....\\D\")"
   ]
  },
  {
   "attachments": {},
   "cell_type": "markdown",
   "metadata": {},
   "source": [
    "<font size = \"5\">\n",
    "\n",
    "Wildcards\n",
    "\n",
    "$\\quad$ <img src=\"figures/wildcards_regex1.png\" alt=\"drawing\" width=\"300\"/>"
   ]
  },
  {
   "cell_type": "code",
   "execution_count": 14,
   "metadata": {},
   "outputs": [
    {
     "data": {
      "text/plain": [
       "0       [Amdt.1]\n",
       "1       [Amdt.2]\n",
       "2       [Amdt.2]\n",
       "8       [Amdt.2]\n",
       "11      [Amdt.1]\n",
       "          ...   \n",
       "3298    [Amdt.1]\n",
       "3299    [Amdt.1]\n",
       "3300    [Amdt.1]\n",
       "3301          []\n",
       "3302    [Amdt.1]\n",
       "Name: action, Length: 1529, dtype: object"
      ]
     },
     "metadata": {},
     "output_type": "display_data"
    },
    {
     "data": {
      "text/plain": [
       "0       [.Amdt.]\n",
       "1       [.Amdt.]\n",
       "2       [.Amdt.]\n",
       "8       [.Amdt.]\n",
       "11      [.Amdt.]\n",
       "          ...   \n",
       "3298    [.Amdt.]\n",
       "3299    [.Amdt.]\n",
       "3300    [.Amdt.]\n",
       "3301          []\n",
       "3302    [.Amdt.]\n",
       "Name: action, Length: 1529, dtype: object"
      ]
     },
     "metadata": {},
     "output_type": "display_data"
    },
    {
     "data": {
      "text/plain": [
       "0       [S.Amdt.127]\n",
       "1       [S.Amdt.269]\n",
       "2       [S.Amdt.265]\n",
       "8       [S.Amdt.242]\n",
       "11      [S.Amdt.127]\n",
       "            ...     \n",
       "3298    [H.Amdt.172]\n",
       "3299    [H.Amdt.171]\n",
       "3300    [H.Amdt.170]\n",
       "3301              []\n",
       "3302    [H.Amdt.169]\n",
       "Name: action, Length: 1529, dtype: object"
      ]
     },
     "metadata": {},
     "output_type": "display_data"
    }
   ],
   "source": [
    "# Get digits after string\n",
    "example1 = amendments[\"action\"].str.findall(\"Amdt\\..\")\n",
    "\n",
    "# Get any character before string\n",
    "example2 = amendments[\"action\"].str.findall(\".Amdt\\.\")\n",
    "\n",
    "# Get two characters before string\n",
    "example3 = amendments[\"action\"].str.findall(\"..Amdt\\....\")\n",
    "\n",
    "display(example1)\n",
    "display(example2)\n",
    "display(example3)"
   ]
  },
  {
   "attachments": {},
   "cell_type": "markdown",
   "metadata": {},
   "source": [
    "<font size = \"5\">\n",
    "\n",
    "Wildcards + Quantifiers\n",
    "\n",
    "$\\quad$ <img src=\"figures/wildcards_regex2.png\" alt=\"drawing\" width=\"300\"/>"
   ]
  },
  {
   "cell_type": "code",
   "execution_count": 15,
   "metadata": {},
   "outputs": [
    {
     "data": {
      "text/plain": [
       "0       [S.Amdt.1274]\n",
       "1       [S.Amdt.2698]\n",
       "2       [S.Amdt.2659]\n",
       "8       [S.Amdt.2424]\n",
       "11      [S.Amdt.1275]\n",
       "            ...      \n",
       "3298     [H.Amdt.172]\n",
       "3299     [H.Amdt.171]\n",
       "3300     [H.Amdt.170]\n",
       "3301               []\n",
       "3302     [H.Amdt.169]\n",
       "Name: action, Length: 1529, dtype: object"
      ]
     },
     "execution_count": 15,
     "metadata": {},
     "output_type": "execute_result"
    }
   ],
   "source": [
    "amendments[\"action\"].str.findall(\".*Amdt\\S*\") # all numbers of variable length until you have a space so it knows when to stop loking "
   ]
  },
  {
   "cell_type": "code",
   "execution_count": 16,
   "metadata": {},
   "outputs": [
    {
     "data": {
      "text/plain": [
       "0       [Amdt.1274]\n",
       "1       [Amdt.2698]\n",
       "2       [Amdt.2659]\n",
       "8       [Amdt.2424]\n",
       "11      [Amdt.1275]\n",
       "           ...     \n",
       "3298     [Amdt.172]\n",
       "3299     [Amdt.171]\n",
       "3300     [Amdt.170]\n",
       "3301             []\n",
       "3302     [Amdt.169]\n",
       "Name: action, Length: 1529, dtype: object"
      ]
     },
     "metadata": {},
     "output_type": "display_data"
    },
    {
     "data": {
      "text/plain": [
       "0       [S.Amdt.]\n",
       "1       [S.Amdt.]\n",
       "2       [S.Amdt.]\n",
       "8       [S.Amdt.]\n",
       "11      [S.Amdt.]\n",
       "          ...    \n",
       "3298    [H.Amdt.]\n",
       "3299    [H.Amdt.]\n",
       "3300    [H.Amdt.]\n",
       "3301           []\n",
       "3302    [H.Amdt.]\n",
       "Name: action, Length: 1529, dtype: object"
      ]
     },
     "metadata": {},
     "output_type": "display_data"
    }
   ],
   "source": [
    "# Get all consecutive digits after string\n",
    "example4 = amendments[\"action\"].str.findall(\"Amdt\\.\\d*\")\n",
    "\n",
    "# Get all consecutive characters before string\n",
    "example5 = amendments[\"action\"].str.findall(\".*Amdt\\.\")\n",
    "\n",
    "display(example4)\n",
    "display(example5)\n"
   ]
  },
  {
   "attachments": {},
   "cell_type": "markdown",
   "metadata": {},
   "source": [
    "<font size = \"5\">\n",
    "\n",
    "Try it yourself\n",
    "\n",
    "- Practice using the ```senate_bills``` dataset\n",
    "- Use ```.str.findall()``` to find the word \"Senator\"\n",
    "- Use the regular expression ```\"Senator \\S``` to extract <br>\n",
    " the the first letter of senator\n",
    "- Use ```*``` to extract senator names"
   ]
  },
  {
   "cell_type": "code",
   "execution_count": 22,
   "metadata": {},
   "outputs": [
    {
     "data": {
      "text/plain": [
       "3      [Senator Alexander]\n",
       "4         [Senator Graham]\n",
       "5         [Senator Graham]\n",
       "6         [Senator Wicker]\n",
       "7          [Senator Moran]\n",
       "              ...         \n",
       "795      [Senator Johnson]\n",
       "796                     []\n",
       "797       [Senator Hoeven]\n",
       "798                     []\n",
       "799       [Senator Graham]\n",
       "Name: action, Length: 514, dtype: object"
      ]
     },
     "execution_count": 22,
     "metadata": {},
     "output_type": "execute_result"
    }
   ],
   "source": [
    "#amendments[\"action\"].str.findall(\"Amdt\\.....\\D\")\n",
    "senate_bills[\"action\"].str.findall(\"Senator \\S*\")"
   ]
  },
  {
   "cell_type": "code",
   "execution_count": null,
   "metadata": {},
   "outputs": [
    {
     "data": {
      "text/plain": [
       "3      [Senator Alexander]\n",
       "4         [Senator Graham]\n",
       "5         [Senator Graham]\n",
       "6         [Senator Wicker]\n",
       "7          [Senator Moran]\n",
       "              ...         \n",
       "795      [Senator Johnson]\n",
       "796                     []\n",
       "797       [Senator Hoeven]\n",
       "798                     []\n",
       "799       [Senator Graham]\n",
       "Name: action, Length: 514, dtype: object"
      ]
     },
     "execution_count": 120,
     "metadata": {},
     "output_type": "execute_result"
    }
   ],
   "source": [
    "# Write your own code\n",
    "amendments[\"action\"].str.findall(\"Amdt\\.....\\D\")\n",
    "senate_bills[\"\"]\n",
    "\n"
   ]
  }
 ],
 "metadata": {
  "kernelspec": {
   "display_name": "base",
   "language": "python",
   "name": "python3"
  },
  "language_info": {
   "codemirror_mode": {
    "name": "ipython",
    "version": 3
   },
   "file_extension": ".py",
   "mimetype": "text/x-python",
   "name": "python",
   "nbconvert_exporter": "python",
   "pygments_lexer": "ipython3",
   "version": "3.11.4"
  },
  "orig_nbformat": 4
 },
 "nbformat": 4,
 "nbformat_minor": 2
}
