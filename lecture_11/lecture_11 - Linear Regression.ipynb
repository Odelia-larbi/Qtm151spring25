{
 "cells": [
  {
   "attachments": {},
   "cell_type": "markdown",
   "metadata": {},
   "source": [
    "# <span style=\"color:darkblue\"> Lecture 11: Application 1 - Linear Regression </span>\n",
    "\n",
    "<font size = \"5\">\n",
    "\n",
    "We will fit statistical models to data\n",
    "\n",
    "- I will give an intro with minimal stats background\n",
    "- See the optional lecture file for advanced users\n",
    "\n",
    "The primary goal is to practice previous commands"
   ]
  },
  {
   "attachments": {},
   "cell_type": "markdown",
   "metadata": {},
   "source": [
    "# <span style=\"color:darkblue\"> I. Import Libraries </span>\n"
   ]
  },
  {
   "cell_type": "code",
   "execution_count": 25,
   "metadata": {},
   "outputs": [],
   "source": [
    "# The \"pandas\" library is used for processing datasets\n",
    "# The \"numpy\" is for numeric observations and random numbers\n",
    "# The \"matplotlib.pyplot\" library is for creating graphs\n",
    "\n",
    "import pandas as pd\n",
    "import numpy as np\n",
    "import matplotlib.pyplot as plt\n"
   ]
  },
  {
   "attachments": {},
   "cell_type": "markdown",
   "metadata": {},
   "source": [
    "<font size = \"5\">\n",
    "\n",
    "Install the \"statsmodels\" library\n",
    "\n",
    "```conda install statsmodels```\n",
    "\n",
    "- In Windows, you can do this by opening the program  <br> \"anaconda\n",
    "prompt\" and typing the above command.\n",
    "- In Mac, you can open your terminal and <br>\n",
    "type the above command"
   ]
  },
  {
   "cell_type": "code",
   "execution_count": 26,
   "metadata": {},
   "outputs": [],
   "source": [
    "# We will \"alias\" two sublibraries in \"statsmodels\"\n",
    "# \"statsmodels.formula.api\" contains functions to estimate models\n",
    "# \"statsmodels.api\" contains general-use statistical options\n",
    "\n",
    "import statsmodels.api as sm\n",
    "import statsmodels.formula.api as smf\n"
   ]
  },
  {
   "attachments": {},
   "cell_type": "markdown",
   "metadata": {},
   "source": [
    "# <span style=\"color:darkblue\"> II. Generate simulated Data </span>\n",
    "\n",
    "<font size = \"5\">\n",
    "\n",
    "Create an empty dataset"
   ]
  },
  {
   "cell_type": "code",
   "execution_count": 27,
   "metadata": {},
   "outputs": [],
   "source": [
    "dataset = pd.DataFrame()"
   ]
  },
  {
   "attachments": {},
   "cell_type": "markdown",
   "metadata": {},
   "source": [
    "<font size = \"5\">\n",
    "\n",
    "Create two random variables of size ($n = 50$)"
   ]
  },
  {
   "cell_type": "code",
   "execution_count": 28,
   "metadata": {},
   "outputs": [],
   "source": [
    "n = 50\n",
    "np.random.seed(42)\n",
    "dataset[\"x\"] = np.random.normal(loc = 0,scale = 1, size = n)\n",
    "dataset[\"e\"] = np.random.normal(loc = 0,scale = 1, size = n)"
   ]
  },
  {
   "attachments": {},
   "cell_type": "markdown",
   "metadata": {},
   "source": [
    "<font size = \"5\">\n",
    "\n",
    "Create data from the linear model\n",
    "\n",
    "$ y = b_0 + b_1 x + e, \\qquad b_0 = 1, b_1 = 2.$"
   ]
  },
  {
   "cell_type": "code",
   "execution_count": 29,
   "metadata": {},
   "outputs": [],
   "source": [
    "# The number b0 is known as the \"intercept\"\n",
    "# The number b1 is known as the \"slope\"\n",
    "\n",
    "b0 = 1\n",
    "b1 = 2\n",
    "\n",
    "# We can compute formulas directly over dataset columns\n",
    "dataset[\"y\"] = b0 + b1 * dataset[\"x\"] + dataset[\"e\"]"
   ]
  },
  {
   "cell_type": "code",
   "execution_count": 30,
   "metadata": {},
   "outputs": [
    {
     "data": {
      "text/plain": [
       "0     2.317512\n",
       "1     0.338389\n",
       "2     1.618455\n",
       "3     4.657736\n",
       "4     1.562693\n",
       "5     1.463006\n",
       "6     3.319208\n",
       "7     2.225657\n",
       "8     0.392315\n",
       "9     3.060665\n",
       "10   -0.406010\n",
       "11   -0.117118\n",
       "12    0.377590\n",
       "13   -4.022767\n",
       "14   -1.637310\n",
       "15    1.231665\n",
       "16   -1.097672\n",
       "17    2.632028\n",
       "18   -0.454412\n",
       "19   -2.469727\n",
       "20    4.292693\n",
       "21    2.086484\n",
       "22    1.099230\n",
       "23   -0.284853\n",
       "24   -2.708511\n",
       "25    2.043748\n",
       "26   -1.214940\n",
       "27    1.452389\n",
       "28   -0.109517\n",
       "29   -1.570956\n",
       "30   -0.423085\n",
       "31    5.061669\n",
       "32    2.450900\n",
       "33   -1.633692\n",
       "34    1.836596\n",
       "35   -1.943444\n",
       "36    2.333129\n",
       "37   -2.590589\n",
       "38   -2.186132\n",
       "39    1.906990\n",
       "40    2.574011\n",
       "41    2.311382\n",
       "42    0.066650\n",
       "43    0.070130\n",
       "44   -2.349152\n",
       "45   -1.903203\n",
       "46    0.374843\n",
       "47    3.375300\n",
       "48    1.692350\n",
       "49   -2.760667\n",
       "Name: y, dtype: float64"
      ]
     },
     "execution_count": 30,
     "metadata": {},
     "output_type": "execute_result"
    }
   ],
   "source": [
    "dataset['y']"
   ]
  },
  {
   "attachments": {},
   "cell_type": "markdown",
   "metadata": {},
   "source": [
    "<font size = \"5\">\n",
    "\n",
    "Compute the theoretically best fit line\n",
    "\n",
    "$ p = b_0 + b_1 x$"
   ]
  },
  {
   "cell_type": "code",
   "execution_count": 31,
   "metadata": {},
   "outputs": [],
   "source": [
    "dataset[\"p\"] = b0 + b1*dataset[\"x\"]\n",
    "#formua for the predictable componet is the equation without the error variable "
   ]
  },
  {
   "attachments": {},
   "cell_type": "markdown",
   "metadata": {},
   "source": [
    "<font size = \"5\">\n",
    "\n",
    "Plot the data"
   ]
  },
  {
   "cell_type": "code",
   "execution_count": 32,
   "metadata": {},
   "outputs": [
    {
     "data": {
      "image/png": "[encoded data removed]",
      "text/plain": [
       "<Figure size 640x480 with 1 Axes>"
      ]
     },
     "metadata": {},
     "output_type": "display_data"
    }
   ],
   "source": [
    "plt.scatter(x = dataset[\"x\"], y = dataset[\"y\"])\n",
    "plt.plot(dataset[\"x\"],dataset[\"p\"], color = 'purple')\n",
    "\n",
    "plt.xlabel(\"X Variable\")\n",
    "plt.ylabel(\"Y Variable\")\n",
    "plt.legend(labels = [\"Data points\", \"Best fit line\"])\n",
    "plt.show()\n",
    "#keep order of the data the same "
   ]
  },
  {
   "attachments": {},
   "cell_type": "markdown",
   "metadata": {},
   "source": [
    "<font size = \"5\" >\n",
    "\n",
    "Try it yourself\n",
    "\n",
    "- Create a new dataset called $\\quad$```subset_above2``` \n",
    "- Subset records with $y \\ge 2$ using $\\quad$```.query()```\n",
    "- Count the original rows $\\quad$ ```len(dataset)```\n",
    "- Count the subsetted rows $\\quad$ ```len(subset_above2)```\n",
    "- Compute the proportion of subsetted observations\n"
   ]
  },
  {
   "cell_type": "code",
   "execution_count": 33,
   "metadata": {},
   "outputs": [
    {
     "name": "stdout",
     "output_type": "stream",
     "text": [
      "50\n",
      "15\n",
      "0.3\n"
     ]
    }
   ],
   "source": [
    "# Write your own code here\n",
    "\n",
    "#make dataset\n",
    "subset_above2 = pd.DataFrame()\n",
    "\n",
    "#fill up that dataset with the subseted info \n",
    "subset_above2 = dataset.query(\"y >= 2\")\n",
    "\n",
    "#check the lengths \n",
    "print(len(dataset))\n",
    "print(len(subset_above2))\n",
    "\n",
    "#proportion \n",
    "print(len(subset_above2)/len(dataset))\n",
    "\n"
   ]
  },
  {
   "attachments": {},
   "cell_type": "markdown",
   "metadata": {},
   "source": [
    "<font size = \"5\">\n",
    "\n",
    "Try it yourself!\n",
    "\n",
    "- Store the sample mean of $y$ as $\\quad$ ```ybar```\n",
    "- Compute the standard deviation of $y$ $\\quad$ ```stdv_sample```\n",
    "- Use ```.query()``` to subset observations that satisfy\n",
    "\n",
    "$ \\qquad abs\\left(y - ybar \\right) \\le stdv\\_sample $\n",
    "\n",
    "$\\quad$ HINT: Use ```.mean()```,$\\text{ }$ ```.std()``` <br>\n",
    "$\\quad$ HINT: Use the globals  $\\ $ ```@xbar```,$\\text{ }$ ```@stdv_sample```"
   ]
  },
  {
   "cell_type": "code",
   "execution_count": 34,
   "metadata": {},
   "outputs": [
    {
     "data": {
      "text/plain": [
       "33"
      ]
     },
     "execution_count": 34,
     "metadata": {},
     "output_type": "execute_result"
    }
   ],
   "source": [
    "# Note: abs(...) is the absolute value function\n",
    "# Write your own code \n",
    "#need to pull mean from jyst the y and not the entire dataset which is why we need to check length of dataset\n",
    "ybar = dataset[\"y\"].mean()\n",
    "stdv_sample= dataset[\"y\"].std()\n",
    "\n",
    "threshold= dataset.query(\"(abs(y-@ybar) <= @stdv_sample)\")\n",
    "len(threshold)\n",
    "\n"
   ]
  },
  {
   "attachments": {},
   "cell_type": "markdown",
   "metadata": {},
   "source": [
    "# <span style=\"color:darkblue\"> II. Estimate the best fit line</span>\n"
   ]
  },
  {
   "attachments": {},
   "cell_type": "markdown",
   "metadata": {},
   "source": [
    "<font size = \"5\">\n",
    "\n",
    "We have data on $(y,x)$ but we don't know $(b_0,b_1, e)$"
   ]
  },
  {
   "attachments": {},
   "cell_type": "markdown",
   "metadata": {},
   "source": [
    "<font size = \"5\">\n",
    "\n",
    "Let's fit an OLS model\n",
    "\n",
    "- It's a statistical approach to get $(b_0,b_1)$\n",
    "- No need to know how it works but why we want it"
   ]
  },
  {
   "cell_type": "code",
   "execution_count": 35,
   "metadata": {},
   "outputs": [],
   "source": [
    "#------------------------------------------------------------------------------#\n",
    "# We use the subfunction \"ols()\" in the library \"smf\"\n",
    "#---- (i) The first argument is a string called \"formula\" with the format \n",
    "#-------- \"outcome ~ indepdent_vars\"\n",
    "#----(ii) the second argument is the dataset\n",
    "# The second line fits the model with standard errors \"cov\". In this case we \n",
    "# use \"robust\" standard errors (HC1)\n",
    "#-------------------------------------------------------------------------------#\n",
    "\n",
    "model = smf.ols(formula = 'y ~  x', data = dataset)\n",
    "results = model.fit()\n",
    "#whats on the right is the predictor and whats on the left is outcome so think y= grade and x= hours studying \n",
    "\n",
    "# Can also run as one line\n",
    "# results = smf.ols(formula = 'y ~ x',data = dataset).fit(cov = \"HC1\")\n"
   ]
  },
  {
   "attachments": {},
   "cell_type": "markdown",
   "metadata": {},
   "source": [
    "<font size = \"5\">\n",
    "\n",
    "Compute the estimated best fit line"
   ]
  },
  {
   "cell_type": "code",
   "execution_count": 36,
   "metadata": {},
   "outputs": [
    {
     "name": "stdout",
     "output_type": "stream",
     "text": [
      "Intercept    1.041022\n",
      "x            2.103076\n",
      "dtype: float64\n"
     ]
    }
   ],
   "source": [
    "# We will use \".params\" to get the attribute \"parameters from the results\"\n",
    "\n",
    "b_list = results.params\n",
    "#params is object within results?\n",
    "print(b_list)\n",
    "\n",
    "# We can then compute the \"estimated\" best fit lines\n",
    "# by extracting the intercept and slop from \"b_list\"\n",
    "\n",
    "dataset[\"p_estimated\"] = b_list[0] + b_list[1]  * dataset[\"x\"]\n",
    "\n",
    "# Note: The estimators for \"b0\" and \"b1\" are close to \n",
    "# the values we used to generate the data\n"
   ]
  },
  {
   "attachments": {},
   "cell_type": "markdown",
   "metadata": {},
   "source": [
    "<font size = \"5\">\n",
    "\n",
    "Plot the best fit line"
   ]
  },
  {
   "cell_type": "code",
   "execution_count": 37,
   "metadata": {},
   "outputs": [
    {
     "data": {
      "image/png": "[encoded data removed]",
      "text/plain": [
       "<Figure size 640x480 with 1 Axes>"
      ]
     },
     "metadata": {},
     "output_type": "display_data"
    }
   ],
   "source": [
    "# Use scatter twice, with different \"y\" inputs\n",
    "# THe \"legend\" command creates a box on with the color labels\n",
    "\n",
    "plt.scatter(x = dataset[\"x\"],y = dataset[\"y\"])\n",
    "plt.plot(dataset[\"x\"],dataset[\"p_estimated\"], color = 'green')\n",
    "\n",
    "plt.legend(labels = [\"Data points\",\"Estimated Predicted Model\"])\n",
    "plt.show()\n"
   ]
  },
  {
   "attachments": {},
   "cell_type": "markdown",
   "metadata": {},
   "source": [
    "<font size = \"5\">\n",
    "\n",
    "Try it yourself!\n",
    "- How good is the estimated fit?\n",
    "- Create two overlapping lineplots\n",
    "- $(p \\text{ }$ vs $\\text{ } x)$ and $(p_{estimated} \\text{ }$ vs $\\text{ } x)$\n",
    "- Create a legend to label each plot"
   ]
  },
  {
   "cell_type": "code",
   "execution_count": 38,
   "metadata": {},
   "outputs": [
    {
     "data": {
      "image/png": "[encoded data removed]",
      "text/plain": [
       "<Figure size 640x480 with 1 Axes>"
      ]
     },
     "metadata": {},
     "output_type": "display_data"
    }
   ],
   "source": [
    "# Write your own code\n",
    "\n",
    "model = smf.ols(formula = 'p ~  x', data = dataset) \n",
    "plt.scatter(x = dataset[\"x\"],y = dataset[\"y\"])\n",
    "\n",
    "model2 = smf.ols(formula = 'p_estimated ~  x', data = dataset) \n",
    "plt.plot(dataset[\"x\"],dataset[\"p_estimated\"], color = 'magenta')\n",
    "\n",
    "\n",
    "\n",
    "plt.legend(labels = [\"Data points\",\"Estimated Predicted Model\"])\n",
    "plt.show()\n",
    "\n",
    "\n"
   ]
  },
  {
   "attachments": {},
   "cell_type": "markdown",
   "metadata": {},
   "source": [
    "<font size = \"5\">\n",
    "\n",
    "Try it youself\n",
    "\n",
    "- Compute a column with the formula\n",
    "\n",
    "$\\quad$ ``` sample_error = y - p_estimated```\n",
    "\n",
    "- Create a lambda function <br>\n",
    "\n",
    "$\\quad$ ``` fn_positive_error = lambda error: error >= 0  ```\n",
    "\n",
    "- Compute a column for whether the error is positive <br>\n",
    "using ``` .apply()```\n",
    "\n"
   ]
  },
  {
   "cell_type": "code",
   "execution_count": 41,
   "metadata": {},
   "outputs": [
    {
     "data": {
      "image/png": "[encoded data removed]",
      "text/plain": [
       "<Figure size 640x480 with 1 Axes>"
      ]
     },
     "metadata": {},
     "output_type": "display_data"
    },
    {
     "name": "stdout",
     "output_type": "stream",
     "text": [
      "           x         e         y         p  p_estimated  sample_error  \\\n",
      "0   0.496714  0.324084  2.317512  1.993428     2.085649      0.231863   \n",
      "1  -0.138264 -0.385082  0.338389  0.723471     0.750241     -0.411852   \n",
      "2   0.647689 -0.676922  1.618455  2.295377     2.403160     -0.784705   \n",
      "3   1.523030  0.611676  4.657736  4.046060     4.244069      0.413667   \n",
      "4  -0.234153  1.031000  1.562693  0.531693     0.548579      1.014113   \n",
      "5  -0.234137  0.931280  1.463006  0.531726     0.548614      0.914392   \n",
      "6   1.579213 -0.839218  3.319208  4.158426     4.362226     -1.043018   \n",
      "7   0.767435 -0.309212  2.225657  2.534869     2.654995     -0.429338   \n",
      "8  -0.469474  0.331263  0.392315  0.061051     0.053682      0.338633   \n",
      "9   0.542560  0.975545  3.060665  2.085120     2.182067      0.878599   \n",
      "10 -0.463418 -0.479174 -0.406010  0.073165     0.066419     -0.472429   \n",
      "11 -0.465730 -0.185659 -0.117118  0.068540     0.061557     -0.178675   \n",
      "12  0.241962 -1.106335  0.377590  1.483925     1.549887     -1.172297   \n",
      "13 -1.913280 -1.196207 -4.022767 -2.826560    -2.982751     -1.040016   \n",
      "14 -1.724918  0.812526 -1.637310 -2.449836    -2.586611      0.949301   \n",
      "15 -0.562288  1.356240  1.231665 -0.124575    -0.141511      1.373176   \n",
      "16 -1.012831 -0.072010 -1.097672 -1.025662    -1.089039     -0.008634   \n",
      "17  0.314247  1.003533  2.632028  1.628495     1.701908      0.930120   \n",
      "18 -0.908024  0.361636 -0.454412 -0.816048    -0.868622      0.414209   \n",
      "19 -1.412304 -0.645120 -2.469727 -1.824607    -1.929160     -0.540567   \n",
      "20  1.465649  0.361396  4.292693  3.931298     4.123392      0.169301   \n",
      "21 -0.225776  1.538037  2.086484  0.548447     0.566197      1.520287   \n",
      "22  0.067528 -0.035826  1.099230  1.135056     1.183039     -0.083808   \n",
      "23 -1.424748  1.564644 -0.284853 -1.849496    -1.955331      1.670479   \n",
      "24 -0.544383 -2.619745 -2.708511 -0.088765    -0.103856     -2.604654   \n",
      "25  0.110923  0.821903  2.043748  1.221845     1.274300      0.769447   \n",
      "26 -1.150994  0.087047 -1.214940 -1.301987    -1.379605      0.164665   \n",
      "27  0.375698 -0.299007  1.452389  1.751396     1.831143     -0.378754   \n",
      "28 -0.600639  0.091761 -0.109517 -0.201277    -0.222167      0.112650   \n",
      "29 -0.291694 -1.987569 -1.570956  0.416613     0.427568     -1.998524   \n",
      "30 -0.601707 -0.219672 -0.423085 -0.203413    -0.224413     -0.198672   \n",
      "31  1.852278  0.357113  5.061669  4.704556     4.936503      0.125166   \n",
      "32 -0.013497  1.477894  2.450900  0.973006     1.012636      1.438264   \n",
      "33 -1.057711 -0.518270 -1.633692 -1.115422    -1.183424     -0.450268   \n",
      "34  0.822545 -0.808494  1.836596  2.645090     2.770896     -0.934300   \n",
      "35 -1.220844 -0.501757 -1.943444 -1.441687    -1.526505     -0.416940   \n",
      "36  0.208864  0.915402  2.333129  1.417727     1.480278      0.852852   \n",
      "37 -1.959670  0.328751 -2.590589 -2.919340    -3.080313      0.489724   \n",
      "38 -1.328186 -0.529760 -2.186132 -1.656372    -1.752254     -0.433878   \n",
      "39  0.196861  0.513267  1.906990  1.393722     1.455036      0.451954   \n",
      "40  0.738467  0.097078  2.574011  2.476933     2.594073     -0.020062   \n",
      "41  0.171368  0.968645  2.311382  1.342737     1.401422      0.909959   \n",
      "42 -0.115648 -0.702053  0.066650  0.768703     0.797805     -0.731154   \n",
      "43 -0.301104 -0.327662  0.070130  0.397793     0.407778     -0.337647   \n",
      "44 -1.478522 -0.392108 -2.349152 -1.957044    -2.068422     -0.280730   \n",
      "45 -0.719844 -1.463515 -1.903203 -0.439688    -0.472865     -1.430338   \n",
      "46 -0.460639  0.296120  0.374843  0.078722     0.072264      0.302579   \n",
      "47  1.057122  0.261055  3.375300  3.114244     3.264230      0.111070   \n",
      "48  0.343618  0.005113  1.692350  1.687237     1.763677     -0.071327   \n",
      "49 -1.763040 -0.234587 -2.760667 -2.526080    -2.666785     -0.093882   \n",
      "\n",
      "    positive_error  \n",
      "0             True  \n",
      "1            False  \n",
      "2            False  \n",
      "3             True  \n",
      "4             True  \n",
      "5             True  \n",
      "6            False  \n",
      "7            False  \n",
      "8             True  \n",
      "9             True  \n",
      "10           False  \n",
      "11           False  \n",
      "12           False  \n",
      "13           False  \n",
      "14            True  \n",
      "15            True  \n",
      "16           False  \n",
      "17            True  \n",
      "18            True  \n",
      "19           False  \n",
      "20            True  \n",
      "21            True  \n",
      "22           False  \n",
      "23            True  \n",
      "24           False  \n",
      "25            True  \n",
      "26            True  \n",
      "27           False  \n",
      "28            True  \n",
      "29           False  \n",
      "30           False  \n",
      "31            True  \n",
      "32            True  \n",
      "33           False  \n",
      "34           False  \n",
      "35           False  \n",
      "36            True  \n",
      "37            True  \n",
      "38           False  \n",
      "39            True  \n",
      "40           False  \n",
      "41            True  \n",
      "42           False  \n",
      "43           False  \n",
      "44           False  \n",
      "45           False  \n",
      "46            True  \n",
      "47            True  \n",
      "48           False  \n",
      "49           False  \n"
     ]
    }
   ],
   "source": [
    "# Write your own code\n",
    "#sample_error= y - p_estimated\n",
    "\n",
    "#fn_positive_error = lambda error : error >= 0\n",
    "\n",
    "# Compute sample_error = y - p_estimated\n",
    "dataset['sample_error'] = dataset['y'] - dataset['p_estimated']\n",
    "\n",
    "# Lambda function to check if error is positive (>= 0)\n",
    "fn_positive_error = lambda error: error >= 0\n",
    "\n",
    "# Create a new column \"positive_error\" using .apply() and the lambda function\n",
    "dataset['positive_error'] = dataset['sample_error'].apply(fn_positive_error)\n",
    "\n",
    "# Plotting the data and the model\n",
    "plt.scatter(dataset[\"x\"], dataset[\"y\"], label=\"Data points\")  # Plot the actual data points\n",
    "plt.plot(dataset[\"x\"], dataset[\"p_estimated\"], color='magenta', label=\"Estimated Predicted Model\")  # Plot the estimated line\n",
    "\n",
    "# Add labels and legend\n",
    "plt.xlabel(\"X\")\n",
    "plt.ylabel(\"Y\")\n",
    "plt.title(\"Scatter plot of data points and estimated model\")\n",
    "plt.legend()\n",
    "\n",
    "# Show the plot\n",
    "plt.show()\n",
    "\n",
    "# Display the updated DataFrame with sample_error and positive_error columns\n",
    "print(dataset)\n"
   ]
  },
  {
   "attachments": {},
   "cell_type": "markdown",
   "metadata": {},
   "source": [
    "<font size = \"5\">\n",
    "\n",
    "Try it yourself\n",
    "\n",
    "- Compute a new column <br>\n",
    "\n",
    "```error_sqr = sample_error ** 2```\n",
    "\n",
    "- Calculate the mean of ```error_sqr```"
   ]
  },
  {
   "cell_type": "code",
   "execution_count": 42,
   "metadata": {},
   "outputs": [
    {
     "data": {
      "image/png": "[encoded data removed]",
      "text/plain": [
       "<Figure size 640x480 with 1 Axes>"
      ]
     },
     "metadata": {},
     "output_type": "display_data"
    },
    {
     "name": "stdout",
     "output_type": "stream",
     "text": [
      "           x         e         y         p  p_estimated  sample_error  \\\n",
      "0   0.496714  0.324084  2.317512  1.993428     2.085649      0.231863   \n",
      "1  -0.138264 -0.385082  0.338389  0.723471     0.750241     -0.411852   \n",
      "2   0.647689 -0.676922  1.618455  2.295377     2.403160     -0.784705   \n",
      "3   1.523030  0.611676  4.657736  4.046060     4.244069      0.413667   \n",
      "4  -0.234153  1.031000  1.562693  0.531693     0.548579      1.014113   \n",
      "5  -0.234137  0.931280  1.463006  0.531726     0.548614      0.914392   \n",
      "6   1.579213 -0.839218  3.319208  4.158426     4.362226     -1.043018   \n",
      "7   0.767435 -0.309212  2.225657  2.534869     2.654995     -0.429338   \n",
      "8  -0.469474  0.331263  0.392315  0.061051     0.053682      0.338633   \n",
      "9   0.542560  0.975545  3.060665  2.085120     2.182067      0.878599   \n",
      "10 -0.463418 -0.479174 -0.406010  0.073165     0.066419     -0.472429   \n",
      "11 -0.465730 -0.185659 -0.117118  0.068540     0.061557     -0.178675   \n",
      "12  0.241962 -1.106335  0.377590  1.483925     1.549887     -1.172297   \n",
      "13 -1.913280 -1.196207 -4.022767 -2.826560    -2.982751     -1.040016   \n",
      "14 -1.724918  0.812526 -1.637310 -2.449836    -2.586611      0.949301   \n",
      "15 -0.562288  1.356240  1.231665 -0.124575    -0.141511      1.373176   \n",
      "16 -1.012831 -0.072010 -1.097672 -1.025662    -1.089039     -0.008634   \n",
      "17  0.314247  1.003533  2.632028  1.628495     1.701908      0.930120   \n",
      "18 -0.908024  0.361636 -0.454412 -0.816048    -0.868622      0.414209   \n",
      "19 -1.412304 -0.645120 -2.469727 -1.824607    -1.929160     -0.540567   \n",
      "20  1.465649  0.361396  4.292693  3.931298     4.123392      0.169301   \n",
      "21 -0.225776  1.538037  2.086484  0.548447     0.566197      1.520287   \n",
      "22  0.067528 -0.035826  1.099230  1.135056     1.183039     -0.083808   \n",
      "23 -1.424748  1.564644 -0.284853 -1.849496    -1.955331      1.670479   \n",
      "24 -0.544383 -2.619745 -2.708511 -0.088765    -0.103856     -2.604654   \n",
      "25  0.110923  0.821903  2.043748  1.221845     1.274300      0.769447   \n",
      "26 -1.150994  0.087047 -1.214940 -1.301987    -1.379605      0.164665   \n",
      "27  0.375698 -0.299007  1.452389  1.751396     1.831143     -0.378754   \n",
      "28 -0.600639  0.091761 -0.109517 -0.201277    -0.222167      0.112650   \n",
      "29 -0.291694 -1.987569 -1.570956  0.416613     0.427568     -1.998524   \n",
      "30 -0.601707 -0.219672 -0.423085 -0.203413    -0.224413     -0.198672   \n",
      "31  1.852278  0.357113  5.061669  4.704556     4.936503      0.125166   \n",
      "32 -0.013497  1.477894  2.450900  0.973006     1.012636      1.438264   \n",
      "33 -1.057711 -0.518270 -1.633692 -1.115422    -1.183424     -0.450268   \n",
      "34  0.822545 -0.808494  1.836596  2.645090     2.770896     -0.934300   \n",
      "35 -1.220844 -0.501757 -1.943444 -1.441687    -1.526505     -0.416940   \n",
      "36  0.208864  0.915402  2.333129  1.417727     1.480278      0.852852   \n",
      "37 -1.959670  0.328751 -2.590589 -2.919340    -3.080313      0.489724   \n",
      "38 -1.328186 -0.529760 -2.186132 -1.656372    -1.752254     -0.433878   \n",
      "39  0.196861  0.513267  1.906990  1.393722     1.455036      0.451954   \n",
      "40  0.738467  0.097078  2.574011  2.476933     2.594073     -0.020062   \n",
      "41  0.171368  0.968645  2.311382  1.342737     1.401422      0.909959   \n",
      "42 -0.115648 -0.702053  0.066650  0.768703     0.797805     -0.731154   \n",
      "43 -0.301104 -0.327662  0.070130  0.397793     0.407778     -0.337647   \n",
      "44 -1.478522 -0.392108 -2.349152 -1.957044    -2.068422     -0.280730   \n",
      "45 -0.719844 -1.463515 -1.903203 -0.439688    -0.472865     -1.430338   \n",
      "46 -0.460639  0.296120  0.374843  0.078722     0.072264      0.302579   \n",
      "47  1.057122  0.261055  3.375300  3.114244     3.264230      0.111070   \n",
      "48  0.343618  0.005113  1.692350  1.687237     1.763677     -0.071327   \n",
      "49 -1.763040 -0.234587 -2.760667 -2.526080    -2.666785     -0.093882   \n",
      "\n",
      "    positive_error  error_sqr  \n",
      "0             True   0.053760  \n",
      "1            False   0.169622  \n",
      "2            False   0.615761  \n",
      "3             True   0.171121  \n",
      "4             True   1.028426  \n",
      "5             True   0.836113  \n",
      "6            False   1.087886  \n",
      "7            False   0.184331  \n",
      "8             True   0.114672  \n",
      "9             True   0.771936  \n",
      "10           False   0.223189  \n",
      "11           False   0.031925  \n",
      "12           False   1.374281  \n",
      "13           False   1.081633  \n",
      "14            True   0.901173  \n",
      "15            True   1.885614  \n",
      "16           False   0.000075  \n",
      "17            True   0.865123  \n",
      "18            True   0.171569  \n",
      "19           False   0.292213  \n",
      "20            True   0.028663  \n",
      "21            True   2.311272  \n",
      "22           False   0.007024  \n",
      "23            True   2.790499  \n",
      "24           False   6.784224  \n",
      "25            True   0.592049  \n",
      "26            True   0.027114  \n",
      "27           False   0.143455  \n",
      "28            True   0.012690  \n",
      "29           False   3.994099  \n",
      "30           False   0.039471  \n",
      "31            True   0.015667  \n",
      "32            True   2.068602  \n",
      "33           False   0.202741  \n",
      "34           False   0.872916  \n",
      "35           False   0.173839  \n",
      "36            True   0.727356  \n",
      "37            True   0.239829  \n",
      "38           False   0.188250  \n",
      "39            True   0.204263  \n",
      "40           False   0.000402  \n",
      "41            True   0.828026  \n",
      "42           False   0.534587  \n",
      "43           False   0.114006  \n",
      "44           False   0.078809  \n",
      "45           False   2.045868  \n",
      "46            True   0.091554  \n",
      "47            True   0.012337  \n",
      "48           False   0.005088  \n",
      "49           False   0.008814  \n",
      "Mean of error_sqr: 0.7400786858214785\n"
     ]
    }
   ],
   "source": [
    "# Write your own code\n",
    "\n",
    "# Compute error_sqr = sample_error ** 2\n",
    "dataset['error_sqr'] = dataset['sample_error'] ** 2\n",
    "\n",
    "# Calculate the mean of error_sqr\n",
    "mean_error_sqr = dataset['error_sqr'].mean()\n",
    "\n",
    "# Plotting the data and the model\n",
    "plt.scatter(dataset[\"x\"], dataset[\"y\"], label=\"Data points\")  # Plot the actual data points\n",
    "plt.plot(dataset[\"x\"], dataset[\"p_estimated\"], color='magenta', label=\"Estimated Predicted Model\")  # Plot the estimated line\n",
    "\n",
    "# Add labels and legend\n",
    "plt.xlabel(\"X\")\n",
    "plt.ylabel(\"Y\")\n",
    "plt.title(\"Scatter plot of data points and estimated model\")\n",
    "plt.legend()\n",
    "\n",
    "# Show the plot\n",
    "plt.show()\n",
    "\n",
    "# Display the updated DataFrame with sample_error, positive_error, error_sqr columns\n",
    "print(dataset)\n",
    "\n",
    "# Display the mean of error_sqr\n",
    "print(\"Mean of error_sqr:\", mean_error_sqr)\n"
   ]
  }
 ],
 "metadata": {
  "kernelspec": {
   "display_name": "base",
   "language": "python",
   "name": "python3"
  },
  "language_info": {
   "codemirror_mode": {
    "name": "ipython",
    "version": 3
   },
   "file_extension": ".py",
   "mimetype": "text/x-python",
   "name": "python",
   "nbconvert_exporter": "python",
   "pygments_lexer": "ipython3",
   "version": "3.11.4"
  },
  "orig_nbformat": 4,
  "vscode": {
   "interpreter": {
    "hash": "45fc1f684f6f416f40889115beff3ddf69879b64cf4bfee48cb72a61e9d15d1a"
   }
  }
 },
 "nbformat": 4,
 "nbformat_minor": 2
}
