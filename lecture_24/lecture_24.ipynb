{
 "cells": [
  {
   "attachments": {},
   "cell_type": "markdown",
   "metadata": {},
   "source": [
    "# <span style=\"color:darkblue\"> Lecture 24 - Connecting to SQL via Python </span>\n",
    "\n",
    "<font size = \"5\">\n",
    "\n",
    "In the past lecture:\n",
    "\n",
    "- We worked directly in SQL\n",
    "- Carried out basic dataset operations\n",
    "\n",
    "In  this lecture we will run SQL from Python\n",
    "\n",
    "- Combine the best of both!\n",
    "- Learn about escape characters!"
   ]
  },
  {
   "cell_type": "markdown",
   "metadata": {},
   "source": [
    "# <span style=\"color:darkblue\"> I. Import Libraries and Data </span>\n"
   ]
  },
  {
   "cell_type": "markdown",
   "metadata": {},
   "source": [
    "<font size = \"5\">\n",
    "\n",
    "<span style=\"color:red\"> Before starting </span> make sure that you have the Python libraries <br>\n",
    "\"psycopg2\" and \"sqlalchemy\" installed in Anaconda\n"
   ]
  },
  {
   "attachments": {},
   "cell_type": "markdown",
   "metadata": {},
   "source": [
    "<font size = \"5\">\n",
    "\n",
    "Import libraries"
   ]
  },
  {
   "cell_type": "code",
   "execution_count": 44,
   "metadata": {},
   "outputs": [],
   "source": [
    "# psycogpg2 helps us process SQL commands to send to the server\n",
    "# sqlalchemy facilitates establishing a connection with the server\n",
    "\n",
    "import pandas as pd\n",
    "\n",
    "from sqlalchemy import create_engine\n",
    "from   sqlalchemy.engine import URL\n",
    "from   sqlalchemy import text"
   ]
  },
  {
   "attachments": {},
   "cell_type": "markdown",
   "metadata": {},
   "source": [
    "<font size = \"5\">\n",
    "\n",
    "Import Data"
   ]
  },
  {
   "cell_type": "code",
   "execution_count": 45,
   "metadata": {},
   "outputs": [],
   "source": [
    "# Import the two car racing datasets\n",
    "#These are stored in the python enviorment \n",
    "\n",
    "results  = pd.read_csv(\"data_raw/results.csv\")\n",
    "races    = pd.read_csv(\"data_raw/races.csv\")\n",
    "circuits = pd.read_csv(\"data_raw/circuits.csv\")"
   ]
  },
  {
   "attachments": {},
   "cell_type": "markdown",
   "metadata": {},
   "source": [
    "<font size = \"5\">\n",
    "\n",
    "Connect to SQL server\n",
    "\n",
    "- In the default instructions we set <br>\n",
    "the password to \"12345\" in windows and <br>\n",
    "no password for Mac\n",
    "- ADJUST code accordingly! "
   ]
  },
  {
   "cell_type": "code",
   "execution_count": 46,
   "metadata": {},
   "outputs": [],
   "source": [
    "# Use the connection details to your server\n",
    "# These are the default settings.\n",
    "# \"postgresql\" is a fixed argument\n",
    "# If you have a different host,database, username, or password,\n",
    "# change the corresponding connection details\n",
    "\n",
    "\n",
    "url_server = URL.create(\n",
    "    \"postgresql\",\n",
    "    host = 'localhost',\n",
    "    database = 'postgres',\n",
    "    username = 'postgres',\n",
    "    port = 5432,\n",
    "    password  = \"\")\n",
    "\n",
    "connection = create_engine(url_server)\n"
   ]
  },
  {
   "attachments": {},
   "cell_type": "markdown",
   "metadata": {},
   "source": [
    "<font size = \"5\">\n",
    "\n",
    "Upload data to SQL"
   ]
  },
  {
   "cell_type": "code",
   "execution_count": 59,
   "metadata": {},
   "outputs": [
    {
     "data": {
      "text/plain": [
       "102"
      ]
     },
     "execution_count": 59,
     "metadata": {},
     "output_type": "execute_result"
    }
   ],
   "source": [
    "# Import the \"results\" table, with the name \"results_sql\"\n",
    "# Con is an argument to specify the server connection\n",
    "# \"if_exists\" is an option to replace the table if it already exists\n",
    "# You can choose any name instead of \"results_sql\"\n",
    "\n",
    "results.to_sql('results',\n",
    "               con = connection,\n",
    "               if_exists='replace',\n",
    "               index=False)\n",
    "\n",
    "# Import \"races\"\n",
    "races.to_sql('races', \n",
    "             con = connection, \n",
    "             if_exists='replace',\n",
    "             index=False)"
   ]
  },
  {
   "attachments": {},
   "cell_type": "markdown",
   "metadata": {},
   "source": [
    "<font size = \"5\">\n",
    "\n",
    "Try it yourself!\n",
    "\n",
    "- Upload the \"circuits table\" into SQL <br>\n",
    "using \".to_sql()\""
   ]
  },
  {
   "cell_type": "code",
   "execution_count": 58,
   "metadata": {},
   "outputs": [
    {
     "data": {
      "text/plain": [
       "77"
      ]
     },
     "execution_count": 58,
     "metadata": {},
     "output_type": "execute_result"
    }
   ],
   "source": [
    "# Write your own code\n",
    "circuits.to_sql('circuits',\n",
    "               con = connection,\n",
    "               if_exists='replace',\n",
    "               index=False)\n",
    "\n"
   ]
  },
  {
   "attachments": {},
   "cell_type": "markdown",
   "metadata": {},
   "source": [
    "# <span style=\"color:darkblue\"> II. \"Escape\" Characters </span>\n",
    "\n",
    "<font size = \"5\">\n",
    "\n",
    "- Backslash (\\\\) is known as an escape character\n",
    "- Used for special operations on strings\n",
    "- Great for working with text!"
   ]
  },
  {
   "attachments": {},
   "cell_type": "markdown",
   "metadata": {},
   "source": [
    "<font size = \"5\">\n",
    "\n",
    "Multi-line strings (\" \\ \")"
   ]
  },
  {
   "cell_type": "code",
   "execution_count": 49,
   "metadata": {},
   "outputs": [],
   "source": [
    "# Use a backslash to define strins over multiple lines\n",
    "# Do not include a space after \"\\\", otherwise it won't work.\n",
    "example_string = \"This is a string \\\n",
    "                  defined over multiple lines\""
   ]
  },
  {
   "cell_type": "code",
   "execution_count": 50,
   "metadata": {},
   "outputs": [
    {
     "data": {
      "text/plain": [
       "'This is a string                   defined over multiple lines'"
      ]
     },
     "execution_count": 50,
     "metadata": {},
     "output_type": "execute_result"
    }
   ],
   "source": [
    "example_string"
   ]
  },
  {
   "attachments": {},
   "cell_type": "markdown",
   "metadata": {},
   "source": [
    "<font size = \"5\">\n",
    "\n",
    "\"Double quotes\" inside string"
   ]
  },
  {
   "cell_type": "code",
   "execution_count": 51,
   "metadata": {},
   "outputs": [
    {
     "data": {
      "text/plain": [
       "'String \"something\" '"
      ]
     },
     "execution_count": 51,
     "metadata": {},
     "output_type": "execute_result"
    }
   ],
   "source": [
    "#\"String \"something\" \"\n",
    "#Using backlash escapes the standard process so this makes the quotation a symbol within the string \n",
    "\n",
    "\"String \\\"something\\\" \""
   ]
  },
  {
   "cell_type": "code",
   "execution_count": 52,
   "metadata": {},
   "outputs": [
    {
     "name": "stdout",
     "output_type": "stream",
     "text": [
      "This will \"supposedly\" put double quotes inside a string\n"
     ]
    }
   ],
   "source": [
    "# Use a backslash + quotation \n",
    "\n",
    "example_double = \"This will \\\"supposedly\\\" put double quotes inside a string\"\n",
    "print(example_double)"
   ]
  },
  {
   "attachments": {},
   "cell_type": "markdown",
   "metadata": {},
   "source": [
    "<font size = \"5\" >\n",
    "'Single quotes' inside string"
   ]
  },
  {
   "cell_type": "code",
   "execution_count": 53,
   "metadata": {},
   "outputs": [
    {
     "name": "stdout",
     "output_type": "stream",
     "text": [
      "This will 'supposedly' put single quotes inside a string\n"
     ]
    }
   ],
   "source": [
    "# There is no need for a backslash given single quotes \n",
    "\n",
    "example_single = \"This will 'supposedly' put single quotes inside a string\"\n",
    "print(example_single)\n"
   ]
  },
  {
   "attachments": {},
   "cell_type": "markdown",
   "metadata": {},
   "source": [
    "<font size = \"5\">\n",
    "\n",
    "Try it yourself!\n",
    "\n",
    "- Print a string ``` SELECT \"driverId\" FROM results; ``` <br> \n",
    "using backslash"
   ]
  },
  {
   "cell_type": "code",
   "execution_count": 54,
   "metadata": {},
   "outputs": [
    {
     "data": {
      "text/plain": [
       "'SELECT \"DriverId\" FROM results;'"
      ]
     },
     "execution_count": 54,
     "metadata": {},
     "output_type": "execute_result"
    }
   ],
   "source": [
    "# Write your own code\n",
    "\n",
    "\"SELECT \\\"DriverId\\\" FROM results;\"\n",
    "\n"
   ]
  },
  {
   "attachments": {},
   "cell_type": "markdown",
   "metadata": {},
   "source": [
    "# <span style=\"color:darkblue\"> III. Data operations </span>\n",
    "\n",
    "<font size = \"5\">\n",
    "\n",
    "- In SQL, operations are often called \"queries\"\n"
   ]
  },
  {
   "attachments": {},
   "cell_type": "markdown",
   "metadata": {},
   "source": [
    "<font size = \"5\">\n",
    "\n",
    "Import Data from SQL"
   ]
  },
  {
   "cell_type": "code",
   "execution_count": 55,
   "metadata": {},
   "outputs": [
    {
     "data": {
      "text/html": [
       "<div>\n",
       "<style scoped>\n",
       "    .dataframe tbody tr th:only-of-type {\n",
       "        vertical-align: middle;\n",
       "    }\n",
       "\n",
       "    .dataframe tbody tr th {\n",
       "        vertical-align: top;\n",
       "    }\n",
       "\n",
       "    .dataframe thead th {\n",
       "        text-align: right;\n",
       "    }\n",
       "</style>\n",
       "<table border=\"1\" class=\"dataframe\">\n",
       "  <thead>\n",
       "    <tr style=\"text-align: right;\">\n",
       "      <th></th>\n",
       "      <th>circuitId</th>\n",
       "      <th>circuitRef</th>\n",
       "      <th>name</th>\n",
       "      <th>location</th>\n",
       "      <th>country</th>\n",
       "      <th>lat</th>\n",
       "      <th>lng</th>\n",
       "      <th>alt</th>\n",
       "      <th>url</th>\n",
       "    </tr>\n",
       "  </thead>\n",
       "  <tbody>\n",
       "    <tr>\n",
       "      <th>0</th>\n",
       "      <td>1</td>\n",
       "      <td>albert_park</td>\n",
       "      <td>Albert Park Grand Prix Circuit</td>\n",
       "      <td>Melbourne</td>\n",
       "      <td>Australia</td>\n",
       "      <td>-37.84970</td>\n",
       "      <td>144.96800</td>\n",
       "      <td>10</td>\n",
       "      <td>http://en.wikipedia.org/wiki/Melbourne_Grand_P...</td>\n",
       "    </tr>\n",
       "    <tr>\n",
       "      <th>1</th>\n",
       "      <td>2</td>\n",
       "      <td>sepang</td>\n",
       "      <td>Sepang International Circuit</td>\n",
       "      <td>Kuala Lumpur</td>\n",
       "      <td>Malaysia</td>\n",
       "      <td>2.76083</td>\n",
       "      <td>101.73800</td>\n",
       "      <td>18</td>\n",
       "      <td>http://en.wikipedia.org/wiki/Sepang_Internatio...</td>\n",
       "    </tr>\n",
       "    <tr>\n",
       "      <th>2</th>\n",
       "      <td>3</td>\n",
       "      <td>bahrain</td>\n",
       "      <td>Bahrain International Circuit</td>\n",
       "      <td>Sakhir</td>\n",
       "      <td>Bahrain</td>\n",
       "      <td>26.03250</td>\n",
       "      <td>50.51060</td>\n",
       "      <td>7</td>\n",
       "      <td>http://en.wikipedia.org/wiki/Bahrain_Internati...</td>\n",
       "    </tr>\n",
       "    <tr>\n",
       "      <th>3</th>\n",
       "      <td>4</td>\n",
       "      <td>catalunya</td>\n",
       "      <td>Circuit de Barcelona-Catalunya</td>\n",
       "      <td>Montmeló</td>\n",
       "      <td>Spain</td>\n",
       "      <td>41.57000</td>\n",
       "      <td>2.26111</td>\n",
       "      <td>109</td>\n",
       "      <td>http://en.wikipedia.org/wiki/Circuit_de_Barcel...</td>\n",
       "    </tr>\n",
       "    <tr>\n",
       "      <th>4</th>\n",
       "      <td>5</td>\n",
       "      <td>istanbul</td>\n",
       "      <td>Istanbul Park</td>\n",
       "      <td>Istanbul</td>\n",
       "      <td>Turkey</td>\n",
       "      <td>40.95170</td>\n",
       "      <td>29.40500</td>\n",
       "      <td>130</td>\n",
       "      <td>http://en.wikipedia.org/wiki/Istanbul_Park</td>\n",
       "    </tr>\n",
       "    <tr>\n",
       "      <th>...</th>\n",
       "      <td>...</td>\n",
       "      <td>...</td>\n",
       "      <td>...</td>\n",
       "      <td>...</td>\n",
       "      <td>...</td>\n",
       "      <td>...</td>\n",
       "      <td>...</td>\n",
       "      <td>...</td>\n",
       "      <td>...</td>\n",
       "    </tr>\n",
       "    <tr>\n",
       "      <th>72</th>\n",
       "      <td>75</td>\n",
       "      <td>portimao</td>\n",
       "      <td>Autódromo Internacional do Algarve</td>\n",
       "      <td>Portimão</td>\n",
       "      <td>Portugal</td>\n",
       "      <td>37.22700</td>\n",
       "      <td>-8.62670</td>\n",
       "      <td>108</td>\n",
       "      <td>http://en.wikipedia.org/wiki/Algarve_Internati...</td>\n",
       "    </tr>\n",
       "    <tr>\n",
       "      <th>73</th>\n",
       "      <td>76</td>\n",
       "      <td>mugello</td>\n",
       "      <td>Autodromo Internazionale del Mugello</td>\n",
       "      <td>Mugello</td>\n",
       "      <td>Italy</td>\n",
       "      <td>43.99750</td>\n",
       "      <td>11.37190</td>\n",
       "      <td>255</td>\n",
       "      <td>http://en.wikipedia.org/wiki/Mugello_Circuit</td>\n",
       "    </tr>\n",
       "    <tr>\n",
       "      <th>74</th>\n",
       "      <td>77</td>\n",
       "      <td>jeddah</td>\n",
       "      <td>Jeddah Corniche Circuit</td>\n",
       "      <td>Jeddah</td>\n",
       "      <td>Saudi Arabia</td>\n",
       "      <td>21.63190</td>\n",
       "      <td>39.10440</td>\n",
       "      <td>15</td>\n",
       "      <td>http://en.wikipedia.org/wiki/Jeddah_Street_Cir...</td>\n",
       "    </tr>\n",
       "    <tr>\n",
       "      <th>75</th>\n",
       "      <td>78</td>\n",
       "      <td>losail</td>\n",
       "      <td>Losail International Circuit</td>\n",
       "      <td>Al Daayen</td>\n",
       "      <td>Qatar</td>\n",
       "      <td>25.49000</td>\n",
       "      <td>51.45420</td>\n",
       "      <td>\\N</td>\n",
       "      <td>http://en.wikipedia.org/wiki/Losail_Internatio...</td>\n",
       "    </tr>\n",
       "    <tr>\n",
       "      <th>76</th>\n",
       "      <td>79</td>\n",
       "      <td>miami</td>\n",
       "      <td>Miami International Autodrome</td>\n",
       "      <td>Miami</td>\n",
       "      <td>USA</td>\n",
       "      <td>25.95810</td>\n",
       "      <td>-80.23890</td>\n",
       "      <td>\\N</td>\n",
       "      <td>http://en.wikipedia.org/wiki/Miami_Internation...</td>\n",
       "    </tr>\n",
       "  </tbody>\n",
       "</table>\n",
       "<p>77 rows × 9 columns</p>\n",
       "</div>"
      ],
      "text/plain": [
       "    circuitId   circuitRef                                  name  \\\n",
       "0           1  albert_park        Albert Park Grand Prix Circuit   \n",
       "1           2       sepang          Sepang International Circuit   \n",
       "2           3      bahrain         Bahrain International Circuit   \n",
       "3           4    catalunya        Circuit de Barcelona-Catalunya   \n",
       "4           5     istanbul                         Istanbul Park   \n",
       "..        ...          ...                                   ...   \n",
       "72         75     portimao    Autódromo Internacional do Algarve   \n",
       "73         76      mugello  Autodromo Internazionale del Mugello   \n",
       "74         77       jeddah               Jeddah Corniche Circuit   \n",
       "75         78       losail          Losail International Circuit   \n",
       "76         79        miami         Miami International Autodrome   \n",
       "\n",
       "        location       country       lat        lng  alt  \\\n",
       "0      Melbourne     Australia -37.84970  144.96800   10   \n",
       "1   Kuala Lumpur      Malaysia   2.76083  101.73800   18   \n",
       "2         Sakhir       Bahrain  26.03250   50.51060    7   \n",
       "3       Montmeló         Spain  41.57000    2.26111  109   \n",
       "4       Istanbul        Turkey  40.95170   29.40500  130   \n",
       "..           ...           ...       ...        ...  ...   \n",
       "72      Portimão      Portugal  37.22700   -8.62670  108   \n",
       "73       Mugello         Italy  43.99750   11.37190  255   \n",
       "74        Jeddah  Saudi Arabia  21.63190   39.10440   15   \n",
       "75     Al Daayen         Qatar  25.49000   51.45420   \\N   \n",
       "76         Miami           USA  25.95810  -80.23890   \\N   \n",
       "\n",
       "                                                  url  \n",
       "0   http://en.wikipedia.org/wiki/Melbourne_Grand_P...  \n",
       "1   http://en.wikipedia.org/wiki/Sepang_Internatio...  \n",
       "2   http://en.wikipedia.org/wiki/Bahrain_Internati...  \n",
       "3   http://en.wikipedia.org/wiki/Circuit_de_Barcel...  \n",
       "4          http://en.wikipedia.org/wiki/Istanbul_Park  \n",
       "..                                                ...  \n",
       "72  http://en.wikipedia.org/wiki/Algarve_Internati...  \n",
       "73       http://en.wikipedia.org/wiki/Mugello_Circuit  \n",
       "74  http://en.wikipedia.org/wiki/Jeddah_Street_Cir...  \n",
       "75  http://en.wikipedia.org/wiki/Losail_Internatio...  \n",
       "76  http://en.wikipedia.org/wiki/Miami_Internation...  \n",
       "\n",
       "[77 rows x 9 columns]"
      ]
     },
     "execution_count": 55,
     "metadata": {},
     "output_type": "execute_result"
    }
   ],
   "source": [
    "pd.read_sql(text(\"SELECT * FROM results;\"), \n",
    "            connection)"
   ]
  },
  {
   "cell_type": "code",
   "execution_count": 60,
   "metadata": {},
   "outputs": [],
   "source": [
    "# Use \"pd.read_sql()\"\n",
    "# - The first argument is string with instructions wrapped in text()\n",
    "#- The second argument is the server connection\n",
    "\n",
    "# Extract all data from a column\n",
    "example1 = pd.read_sql(text(\"SELECT * FROM results;\"), connection)\n",
    "\n",
    "# Extract a subset of columns\n",
    "example2 = pd.read_sql(text(\"SELECT points \\\n",
    "                             FROM results;\"), connection)\n",
    "\n",
    "# Subset based on a string condition\n",
    "example3 = pd.read_sql(text(\"SELECT * \\\n",
    "                             FROM races \\\n",
    "                             WHERE name = 'Abu Dhabi Grand Prix';\"), connection)\n",
    "\n",
    "\n",
    "# Note: (i) Remember to include \"\\\"  to be able to define\n",
    "#           strings over multiple lines\n",
    "#       (ii) We can include single quotations in the WHERE command\n",
    "#            without any additional escape characters"
   ]
  },
  {
   "attachments": {},
   "cell_type": "markdown",
   "metadata": {},
   "source": [
    "<font size = \"5\">\n",
    "\n",
    "Upper case columns\n",
    "\n",
    "- In SQL syntax we use double quotes e.g. ``` \"driverId\" ```\n",
    "- ```.read_sql()``` requires a string inside a string\n",
    "- To do so, use escape characters, e.g.   ``` \\\"driverId\\\" ```"
   ]
  },
  {
   "cell_type": "code",
   "execution_count": 61,
   "metadata": {},
   "outputs": [],
   "source": [
    "# Select a column\n",
    "example4 = pd.read_sql(text('SELECT \"driverId\" \\\n",
    "                             FROM results;'), connection)\n",
    "\n",
    "# Compute an aggregate statistic\n",
    "example5 = pd.read_sql(text(\"SELECT AVG(points) as mean_points \\\n",
    "                             FROM results \\\n",
    "                             GROUP BY \\\"driverId\\\" ;\"), connection)\n"
   ]
  },
  {
   "cell_type": "markdown",
   "metadata": {},
   "source": [
    "<font size = \"5\">\n",
    "\n",
    "Try it yourself!\n",
    "\n",
    "- Select \"raceId\" and \"constructorId\" from results <br>"
   ]
  },
  {
   "cell_type": "code",
   "execution_count": null,
   "metadata": {},
   "outputs": [],
   "source": [
    "practice= pd.read_sql(text('SELECT \"raceId\"\\\n",
    "                           FROM results;'), connection)\n",
    "\n",
    "practice"
   ]
  },
  {
   "cell_type": "code",
   "execution_count": null,
   "metadata": {},
   "outputs": [
    {
     "data": {
      "text/html": [
       "<div>\n",
       "<style scoped>\n",
       "    .dataframe tbody tr th:only-of-type {\n",
       "        vertical-align: middle;\n",
       "    }\n",
       "\n",
       "    .dataframe tbody tr th {\n",
       "        vertical-align: top;\n",
       "    }\n",
       "\n",
       "    .dataframe thead th {\n",
       "        text-align: right;\n",
       "    }\n",
       "</style>\n",
       "<table border=\"1\" class=\"dataframe\">\n",
       "  <thead>\n",
       "    <tr style=\"text-align: right;\">\n",
       "      <th></th>\n",
       "      <th>raceId</th>\n",
       "      <th>constructorId</th>\n",
       "    </tr>\n",
       "  </thead>\n",
       "  <tbody>\n",
       "    <tr>\n",
       "      <th>0</th>\n",
       "      <td>18</td>\n",
       "      <td>1</td>\n",
       "    </tr>\n",
       "    <tr>\n",
       "      <th>1</th>\n",
       "      <td>18</td>\n",
       "      <td>2</td>\n",
       "    </tr>\n",
       "    <tr>\n",
       "      <th>2</th>\n",
       "      <td>18</td>\n",
       "      <td>3</td>\n",
       "    </tr>\n",
       "    <tr>\n",
       "      <th>3</th>\n",
       "      <td>18</td>\n",
       "      <td>4</td>\n",
       "    </tr>\n",
       "    <tr>\n",
       "      <th>4</th>\n",
       "      <td>18</td>\n",
       "      <td>1</td>\n",
       "    </tr>\n",
       "    <tr>\n",
       "      <th>...</th>\n",
       "      <td>...</td>\n",
       "      <td>...</td>\n",
       "    </tr>\n",
       "    <tr>\n",
       "      <th>25835</th>\n",
       "      <td>1096</td>\n",
       "      <td>210</td>\n",
       "    </tr>\n",
       "    <tr>\n",
       "      <th>25836</th>\n",
       "      <td>1096</td>\n",
       "      <td>210</td>\n",
       "    </tr>\n",
       "    <tr>\n",
       "      <th>25837</th>\n",
       "      <td>1096</td>\n",
       "      <td>131</td>\n",
       "    </tr>\n",
       "    <tr>\n",
       "      <th>25838</th>\n",
       "      <td>1096</td>\n",
       "      <td>3</td>\n",
       "    </tr>\n",
       "    <tr>\n",
       "      <th>25839</th>\n",
       "      <td>1096</td>\n",
       "      <td>214</td>\n",
       "    </tr>\n",
       "  </tbody>\n",
       "</table>\n",
       "<p>25840 rows × 2 columns</p>\n",
       "</div>"
      ],
      "text/plain": [
       "       raceId  constructorId\n",
       "0          18              1\n",
       "1          18              2\n",
       "2          18              3\n",
       "3          18              4\n",
       "4          18              1\n",
       "...       ...            ...\n",
       "25835    1096            210\n",
       "25836    1096            210\n",
       "25837    1096            131\n",
       "25838    1096              3\n",
       "25839    1096            214\n",
       "\n",
       "[25840 rows x 2 columns]"
      ]
     },
     "execution_count": 15,
     "metadata": {},
     "output_type": "execute_result"
    }
   ],
   "source": [
    "# Write your own code\n",
    "\n",
    "\n"
   ]
  },
  {
   "attachments": {},
   "cell_type": "markdown",
   "metadata": {},
   "source": [
    "# <span style=\"color:darkblue\"> IV. Additional Material </span>\n",
    "\n",
    "<font size = \"5\">\n",
    "\n",
    "More about SQL syntax\n",
    "\n",
    "https://www.w3schools.com/sql/\n",
    "\n",
    " <span style=\"color:red\"> How are things stored?: </span> <br>\n",
    "\n",
    "- Operations like uploading, creating, dropping etc. <br>\n",
    "are permanent an are available for other server users <br>\n",
    "who access the data later.\n",
    "- Commands to view the dataset <br>\n",
    "(most of what we did today) <br>\n",
    "are only available during your session <br>\n",
    "and won't make any lasting changes \n",
    "\n"
   ]
  }
 ],
 "metadata": {
  "kernelspec": {
   "display_name": "Python 3",
   "language": "python",
   "name": "python3"
  },
  "language_info": {
   "codemirror_mode": {
    "name": "ipython",
    "version": 3
   },
   "file_extension": ".py",
   "mimetype": "text/x-python",
   "name": "python",
   "nbconvert_exporter": "python",
   "pygments_lexer": "ipython3",
   "version": "3.11.4"
  },
  "orig_nbformat": 4
 },
 "nbformat": 4,
 "nbformat_minor": 2
}
